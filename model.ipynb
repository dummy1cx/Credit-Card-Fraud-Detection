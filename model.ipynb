{
 "cells": [
  {
   "cell_type": "markdown",
   "metadata": {},
   "source": [
    "# Credit Card Fraud Detection"
   ]
  },
  {
   "cell_type": "markdown",
   "metadata": {},
   "source": [
    "When discussing financial transactions and consumer security on digital platforms, the\n",
    "current market is defined by everyday credit card purchases, which contributes to a signi-\n",
    "ficant increase in different types of fraud. Considering these perspectives, the Credit Card\n",
    "Fraud Detection dataset was chosen to be used in order to understand the process behind\n",
    "this application standard used by global companies. Therefore, the aim of Task 1 is to\n",
    "develop a neural network for credit card fraud detection by understanding the pattern of\n",
    "fraudulent activities."
   ]
  },
  {
   "cell_type": "code",
   "execution_count": 9,
   "metadata": {},
   "outputs": [],
   "source": [
    "# Import necessary libraries\n",
    "\n",
    "import pandas as pd\n",
    "import numpy as np\n",
    "import matplotlib.pyplot as plt\n",
    "import seaborn as sns\n",
    "import plotly.express as px\n",
    "from sklearn.model_selection import train_test_split\n",
    "from scipy.stats import truncnorm\n",
    "from sklearn.preprocessing import StandardScaler\n",
    "from imblearn.over_sampling import SMOTE"
   ]
  },
  {
   "cell_type": "markdown",
   "metadata": {},
   "source": [
    "## EDA"
   ]
  },
  {
   "cell_type": "code",
   "execution_count": 10,
   "metadata": {},
   "outputs": [],
   "source": [
    "# Load the dataset using pandas read_csv \n",
    "\n",
    "df = pd.read_csv('credit_card_fraud_dataset.csv')"
   ]
  },
  {
   "cell_type": "code",
   "execution_count": 11,
   "metadata": {},
   "outputs": [
    {
     "data": {
      "text/plain": [
       "(100000, 7)"
      ]
     },
     "execution_count": 11,
     "metadata": {},
     "output_type": "execute_result"
    }
   ],
   "source": [
    "# Display dataset shape of the datasets\n",
    "\n",
    "df.shape"
   ]
  },
  {
   "cell_type": "code",
   "execution_count": 12,
   "metadata": {},
   "outputs": [
    {
     "data": {
      "text/html": [
       "<div>\n",
       "<style scoped>\n",
       "    .dataframe tbody tr th:only-of-type {\n",
       "        vertical-align: middle;\n",
       "    }\n",
       "\n",
       "    .dataframe tbody tr th {\n",
       "        vertical-align: top;\n",
       "    }\n",
       "\n",
       "    .dataframe thead th {\n",
       "        text-align: right;\n",
       "    }\n",
       "</style>\n",
       "<table border=\"1\" class=\"dataframe\">\n",
       "  <thead>\n",
       "    <tr style=\"text-align: right;\">\n",
       "      <th></th>\n",
       "      <th>TransactionID</th>\n",
       "      <th>TransactionDate</th>\n",
       "      <th>Amount</th>\n",
       "      <th>MerchantID</th>\n",
       "      <th>TransactionType</th>\n",
       "      <th>Location</th>\n",
       "      <th>IsFraud</th>\n",
       "    </tr>\n",
       "  </thead>\n",
       "  <tbody>\n",
       "    <tr>\n",
       "      <th>0</th>\n",
       "      <td>1</td>\n",
       "      <td>2024-04-03 14:15:35.462794</td>\n",
       "      <td>4189.27</td>\n",
       "      <td>688</td>\n",
       "      <td>refund</td>\n",
       "      <td>San Antonio</td>\n",
       "      <td>0</td>\n",
       "    </tr>\n",
       "    <tr>\n",
       "      <th>1</th>\n",
       "      <td>2</td>\n",
       "      <td>2024-03-19 13:20:35.462824</td>\n",
       "      <td>2659.71</td>\n",
       "      <td>109</td>\n",
       "      <td>refund</td>\n",
       "      <td>Dallas</td>\n",
       "      <td>0</td>\n",
       "    </tr>\n",
       "    <tr>\n",
       "      <th>2</th>\n",
       "      <td>3</td>\n",
       "      <td>2024-01-08 10:08:35.462834</td>\n",
       "      <td>784.00</td>\n",
       "      <td>394</td>\n",
       "      <td>purchase</td>\n",
       "      <td>New York</td>\n",
       "      <td>0</td>\n",
       "    </tr>\n",
       "    <tr>\n",
       "      <th>3</th>\n",
       "      <td>4</td>\n",
       "      <td>2024-04-13 23:50:35.462850</td>\n",
       "      <td>3514.40</td>\n",
       "      <td>944</td>\n",
       "      <td>purchase</td>\n",
       "      <td>Philadelphia</td>\n",
       "      <td>0</td>\n",
       "    </tr>\n",
       "    <tr>\n",
       "      <th>4</th>\n",
       "      <td>5</td>\n",
       "      <td>2024-07-12 18:51:35.462858</td>\n",
       "      <td>369.07</td>\n",
       "      <td>475</td>\n",
       "      <td>purchase</td>\n",
       "      <td>Phoenix</td>\n",
       "      <td>0</td>\n",
       "    </tr>\n",
       "    <tr>\n",
       "      <th>5</th>\n",
       "      <td>6</td>\n",
       "      <td>2024-08-30 01:52:35.462867</td>\n",
       "      <td>3086.22</td>\n",
       "      <td>302</td>\n",
       "      <td>purchase</td>\n",
       "      <td>New York</td>\n",
       "      <td>0</td>\n",
       "    </tr>\n",
       "    <tr>\n",
       "      <th>6</th>\n",
       "      <td>7</td>\n",
       "      <td>2024-01-02 11:31:35.462875</td>\n",
       "      <td>1466.90</td>\n",
       "      <td>902</td>\n",
       "      <td>refund</td>\n",
       "      <td>Philadelphia</td>\n",
       "      <td>0</td>\n",
       "    </tr>\n",
       "    <tr>\n",
       "      <th>7</th>\n",
       "      <td>8</td>\n",
       "      <td>2024-05-12 12:25:35.462885</td>\n",
       "      <td>917.21</td>\n",
       "      <td>266</td>\n",
       "      <td>purchase</td>\n",
       "      <td>New York</td>\n",
       "      <td>0</td>\n",
       "    </tr>\n",
       "    <tr>\n",
       "      <th>8</th>\n",
       "      <td>9</td>\n",
       "      <td>2023-11-16 02:20:35.462894</td>\n",
       "      <td>1625.73</td>\n",
       "      <td>32</td>\n",
       "      <td>refund</td>\n",
       "      <td>Chicago</td>\n",
       "      <td>0</td>\n",
       "    </tr>\n",
       "    <tr>\n",
       "      <th>9</th>\n",
       "      <td>10</td>\n",
       "      <td>2023-10-24 06:51:35.462901</td>\n",
       "      <td>662.07</td>\n",
       "      <td>193</td>\n",
       "      <td>purchase</td>\n",
       "      <td>Dallas</td>\n",
       "      <td>0</td>\n",
       "    </tr>\n",
       "  </tbody>\n",
       "</table>\n",
       "</div>"
      ],
      "text/plain": [
       "   TransactionID             TransactionDate   Amount  MerchantID  \\\n",
       "0              1  2024-04-03 14:15:35.462794  4189.27         688   \n",
       "1              2  2024-03-19 13:20:35.462824  2659.71         109   \n",
       "2              3  2024-01-08 10:08:35.462834   784.00         394   \n",
       "3              4  2024-04-13 23:50:35.462850  3514.40         944   \n",
       "4              5  2024-07-12 18:51:35.462858   369.07         475   \n",
       "5              6  2024-08-30 01:52:35.462867  3086.22         302   \n",
       "6              7  2024-01-02 11:31:35.462875  1466.90         902   \n",
       "7              8  2024-05-12 12:25:35.462885   917.21         266   \n",
       "8              9  2023-11-16 02:20:35.462894  1625.73          32   \n",
       "9             10  2023-10-24 06:51:35.462901   662.07         193   \n",
       "\n",
       "  TransactionType      Location  IsFraud  \n",
       "0          refund   San Antonio        0  \n",
       "1          refund        Dallas        0  \n",
       "2        purchase      New York        0  \n",
       "3        purchase  Philadelphia        0  \n",
       "4        purchase       Phoenix        0  \n",
       "5        purchase      New York        0  \n",
       "6          refund  Philadelphia        0  \n",
       "7        purchase      New York        0  \n",
       "8          refund       Chicago        0  \n",
       "9        purchase        Dallas        0  "
      ]
     },
     "execution_count": 12,
     "metadata": {},
     "output_type": "execute_result"
    }
   ],
   "source": [
    "# Display first 10 rows of the dataset \n",
    "\n",
    "df.head(10)"
   ]
  },
  {
   "cell_type": "code",
   "execution_count": 13,
   "metadata": {},
   "outputs": [
    {
     "name": "stdout",
     "output_type": "stream",
     "text": [
      "<class 'pandas.core.frame.DataFrame'>\n",
      "RangeIndex: 100000 entries, 0 to 99999\n",
      "Data columns (total 7 columns):\n",
      " #   Column           Non-Null Count   Dtype  \n",
      "---  ------           --------------   -----  \n",
      " 0   TransactionID    100000 non-null  int64  \n",
      " 1   TransactionDate  100000 non-null  object \n",
      " 2   Amount           100000 non-null  float64\n",
      " 3   MerchantID       100000 non-null  int64  \n",
      " 4   TransactionType  100000 non-null  object \n",
      " 5   Location         100000 non-null  object \n",
      " 6   IsFraud          100000 non-null  int64  \n",
      "dtypes: float64(1), int64(3), object(3)\n",
      "memory usage: 5.3+ MB\n"
     ]
    }
   ],
   "source": [
    "# Understanding the datatypes of all the features columns of the dataset\n",
    "\n",
    "df.info()"
   ]
  },
  {
   "cell_type": "code",
   "execution_count": 14,
   "metadata": {},
   "outputs": [
    {
     "data": {
      "text/html": [
       "<div>\n",
       "<style scoped>\n",
       "    .dataframe tbody tr th:only-of-type {\n",
       "        vertical-align: middle;\n",
       "    }\n",
       "\n",
       "    .dataframe tbody tr th {\n",
       "        vertical-align: top;\n",
       "    }\n",
       "\n",
       "    .dataframe thead th {\n",
       "        text-align: right;\n",
       "    }\n",
       "</style>\n",
       "<table border=\"1\" class=\"dataframe\">\n",
       "  <thead>\n",
       "    <tr style=\"text-align: right;\">\n",
       "      <th></th>\n",
       "      <th>TransactionID</th>\n",
       "      <th>Amount</th>\n",
       "      <th>MerchantID</th>\n",
       "      <th>IsFraud</th>\n",
       "    </tr>\n",
       "  </thead>\n",
       "  <tbody>\n",
       "    <tr>\n",
       "      <th>count</th>\n",
       "      <td>100000.000000</td>\n",
       "      <td>100000.000000</td>\n",
       "      <td>100000.000000</td>\n",
       "      <td>100000.000000</td>\n",
       "    </tr>\n",
       "    <tr>\n",
       "      <th>mean</th>\n",
       "      <td>50000.500000</td>\n",
       "      <td>2497.092666</td>\n",
       "      <td>501.676070</td>\n",
       "      <td>0.010000</td>\n",
       "    </tr>\n",
       "    <tr>\n",
       "      <th>std</th>\n",
       "      <td>28867.657797</td>\n",
       "      <td>1442.415999</td>\n",
       "      <td>288.715868</td>\n",
       "      <td>0.099499</td>\n",
       "    </tr>\n",
       "    <tr>\n",
       "      <th>min</th>\n",
       "      <td>1.000000</td>\n",
       "      <td>1.050000</td>\n",
       "      <td>1.000000</td>\n",
       "      <td>0.000000</td>\n",
       "    </tr>\n",
       "    <tr>\n",
       "      <th>25%</th>\n",
       "      <td>25000.750000</td>\n",
       "      <td>1247.955000</td>\n",
       "      <td>252.000000</td>\n",
       "      <td>0.000000</td>\n",
       "    </tr>\n",
       "    <tr>\n",
       "      <th>50%</th>\n",
       "      <td>50000.500000</td>\n",
       "      <td>2496.500000</td>\n",
       "      <td>503.000000</td>\n",
       "      <td>0.000000</td>\n",
       "    </tr>\n",
       "    <tr>\n",
       "      <th>75%</th>\n",
       "      <td>75000.250000</td>\n",
       "      <td>3743.592500</td>\n",
       "      <td>753.000000</td>\n",
       "      <td>0.000000</td>\n",
       "    </tr>\n",
       "    <tr>\n",
       "      <th>max</th>\n",
       "      <td>100000.000000</td>\n",
       "      <td>4999.770000</td>\n",
       "      <td>1000.000000</td>\n",
       "      <td>1.000000</td>\n",
       "    </tr>\n",
       "  </tbody>\n",
       "</table>\n",
       "</div>"
      ],
      "text/plain": [
       "       TransactionID         Amount     MerchantID        IsFraud\n",
       "count  100000.000000  100000.000000  100000.000000  100000.000000\n",
       "mean    50000.500000    2497.092666     501.676070       0.010000\n",
       "std     28867.657797    1442.415999     288.715868       0.099499\n",
       "min         1.000000       1.050000       1.000000       0.000000\n",
       "25%     25000.750000    1247.955000     252.000000       0.000000\n",
       "50%     50000.500000    2496.500000     503.000000       0.000000\n",
       "75%     75000.250000    3743.592500     753.000000       0.000000\n",
       "max    100000.000000    4999.770000    1000.000000       1.000000"
      ]
     },
     "execution_count": 14,
     "metadata": {},
     "output_type": "execute_result"
    }
   ],
   "source": [
    "# Statistical Analysis of the dataset \n",
    "\n",
    "df.describe()"
   ]
  },
  {
   "cell_type": "code",
   "execution_count": 15,
   "metadata": {},
   "outputs": [
    {
     "data": {
      "text/plain": [
       "TransactionID      0\n",
       "TransactionDate    0\n",
       "Amount             0\n",
       "MerchantID         0\n",
       "TransactionType    0\n",
       "Location           0\n",
       "IsFraud            0\n",
       "dtype: int64"
      ]
     },
     "execution_count": 15,
     "metadata": {},
     "output_type": "execute_result"
    }
   ],
   "source": [
    "# Checking null values present in the dataset\n",
    "\n",
    "df.isnull().sum()"
   ]
  },
  {
   "cell_type": "code",
   "execution_count": 16,
   "metadata": {},
   "outputs": [
    {
     "data": {
      "text/html": [
       "<div>\n",
       "<style scoped>\n",
       "    .dataframe tbody tr th:only-of-type {\n",
       "        vertical-align: middle;\n",
       "    }\n",
       "\n",
       "    .dataframe tbody tr th {\n",
       "        vertical-align: top;\n",
       "    }\n",
       "\n",
       "    .dataframe thead th {\n",
       "        text-align: right;\n",
       "    }\n",
       "</style>\n",
       "<table border=\"1\" class=\"dataframe\">\n",
       "  <thead>\n",
       "    <tr style=\"text-align: right;\">\n",
       "      <th></th>\n",
       "      <th>TransactionDate</th>\n",
       "      <th>Amount</th>\n",
       "      <th>MerchantID</th>\n",
       "      <th>TransactionType</th>\n",
       "      <th>Location</th>\n",
       "      <th>IsFraud</th>\n",
       "    </tr>\n",
       "    <tr>\n",
       "      <th>TransactionID</th>\n",
       "      <th></th>\n",
       "      <th></th>\n",
       "      <th></th>\n",
       "      <th></th>\n",
       "      <th></th>\n",
       "      <th></th>\n",
       "    </tr>\n",
       "  </thead>\n",
       "  <tbody>\n",
       "    <tr>\n",
       "      <th>1</th>\n",
       "      <td>2024-04-03 14:15:35.462794</td>\n",
       "      <td>4189.27</td>\n",
       "      <td>688</td>\n",
       "      <td>refund</td>\n",
       "      <td>San Antonio</td>\n",
       "      <td>0</td>\n",
       "    </tr>\n",
       "    <tr>\n",
       "      <th>2</th>\n",
       "      <td>2024-03-19 13:20:35.462824</td>\n",
       "      <td>2659.71</td>\n",
       "      <td>109</td>\n",
       "      <td>refund</td>\n",
       "      <td>Dallas</td>\n",
       "      <td>0</td>\n",
       "    </tr>\n",
       "    <tr>\n",
       "      <th>3</th>\n",
       "      <td>2024-01-08 10:08:35.462834</td>\n",
       "      <td>784.00</td>\n",
       "      <td>394</td>\n",
       "      <td>purchase</td>\n",
       "      <td>New York</td>\n",
       "      <td>0</td>\n",
       "    </tr>\n",
       "    <tr>\n",
       "      <th>4</th>\n",
       "      <td>2024-04-13 23:50:35.462850</td>\n",
       "      <td>3514.40</td>\n",
       "      <td>944</td>\n",
       "      <td>purchase</td>\n",
       "      <td>Philadelphia</td>\n",
       "      <td>0</td>\n",
       "    </tr>\n",
       "    <tr>\n",
       "      <th>5</th>\n",
       "      <td>2024-07-12 18:51:35.462858</td>\n",
       "      <td>369.07</td>\n",
       "      <td>475</td>\n",
       "      <td>purchase</td>\n",
       "      <td>Phoenix</td>\n",
       "      <td>0</td>\n",
       "    </tr>\n",
       "    <tr>\n",
       "      <th>...</th>\n",
       "      <td>...</td>\n",
       "      <td>...</td>\n",
       "      <td>...</td>\n",
       "      <td>...</td>\n",
       "      <td>...</td>\n",
       "      <td>...</td>\n",
       "    </tr>\n",
       "    <tr>\n",
       "      <th>99996</th>\n",
       "      <td>2024-06-07 00:57:36.027591</td>\n",
       "      <td>1057.29</td>\n",
       "      <td>289</td>\n",
       "      <td>refund</td>\n",
       "      <td>San Antonio</td>\n",
       "      <td>0</td>\n",
       "    </tr>\n",
       "    <tr>\n",
       "      <th>99997</th>\n",
       "      <td>2023-10-22 23:12:36.027594</td>\n",
       "      <td>297.25</td>\n",
       "      <td>745</td>\n",
       "      <td>refund</td>\n",
       "      <td>San Antonio</td>\n",
       "      <td>0</td>\n",
       "    </tr>\n",
       "    <tr>\n",
       "      <th>99998</th>\n",
       "      <td>2024-05-31 19:27:36.027597</td>\n",
       "      <td>3448.56</td>\n",
       "      <td>690</td>\n",
       "      <td>purchase</td>\n",
       "      <td>San Antonio</td>\n",
       "      <td>0</td>\n",
       "    </tr>\n",
       "    <tr>\n",
       "      <th>99999</th>\n",
       "      <td>2024-10-18 09:43:36.027601</td>\n",
       "      <td>3750.79</td>\n",
       "      <td>644</td>\n",
       "      <td>purchase</td>\n",
       "      <td>Philadelphia</td>\n",
       "      <td>0</td>\n",
       "    </tr>\n",
       "    <tr>\n",
       "      <th>100000</th>\n",
       "      <td>2024-03-05 19:41:36.027606</td>\n",
       "      <td>1596.79</td>\n",
       "      <td>675</td>\n",
       "      <td>refund</td>\n",
       "      <td>Houston</td>\n",
       "      <td>0</td>\n",
       "    </tr>\n",
       "  </tbody>\n",
       "</table>\n",
       "<p>100000 rows × 6 columns</p>\n",
       "</div>"
      ],
      "text/plain": [
       "                          TransactionDate   Amount  MerchantID  \\\n",
       "TransactionID                                                    \n",
       "1              2024-04-03 14:15:35.462794  4189.27         688   \n",
       "2              2024-03-19 13:20:35.462824  2659.71         109   \n",
       "3              2024-01-08 10:08:35.462834   784.00         394   \n",
       "4              2024-04-13 23:50:35.462850  3514.40         944   \n",
       "5              2024-07-12 18:51:35.462858   369.07         475   \n",
       "...                                   ...      ...         ...   \n",
       "99996          2024-06-07 00:57:36.027591  1057.29         289   \n",
       "99997          2023-10-22 23:12:36.027594   297.25         745   \n",
       "99998          2024-05-31 19:27:36.027597  3448.56         690   \n",
       "99999          2024-10-18 09:43:36.027601  3750.79         644   \n",
       "100000         2024-03-05 19:41:36.027606  1596.79         675   \n",
       "\n",
       "              TransactionType      Location  IsFraud  \n",
       "TransactionID                                         \n",
       "1                      refund   San Antonio        0  \n",
       "2                      refund        Dallas        0  \n",
       "3                    purchase      New York        0  \n",
       "4                    purchase  Philadelphia        0  \n",
       "5                    purchase       Phoenix        0  \n",
       "...                       ...           ...      ...  \n",
       "99996                  refund   San Antonio        0  \n",
       "99997                  refund   San Antonio        0  \n",
       "99998                purchase   San Antonio        0  \n",
       "99999                purchase  Philadelphia        0  \n",
       "100000                 refund       Houston        0  \n",
       "\n",
       "[100000 rows x 6 columns]"
      ]
     },
     "execution_count": 16,
     "metadata": {},
     "output_type": "execute_result"
    }
   ],
   "source": [
    "# Reset index columns to Transaction ID\n",
    "\n",
    "df = df.set_index('TransactionID')\n",
    "\n",
    "df"
   ]
  },
  {
   "cell_type": "code",
   "execution_count": 17,
   "metadata": {},
   "outputs": [
    {
     "data": {
      "text/plain": [
       "IsFraud\n",
       "0    99000\n",
       "1     1000\n",
       "Name: count, dtype: int64"
      ]
     },
     "execution_count": 17,
     "metadata": {},
     "output_type": "execute_result"
    }
   ],
   "source": [
    "# Find the Balance in the target \n",
    "\n",
    "df['IsFraud'].value_counts()"
   ]
  },
  {
   "cell_type": "code",
   "execution_count": 18,
   "metadata": {},
   "outputs": [
    {
     "data": {
      "image/png": "[encoded data removed]",
      "text/plain": [
       "<Figure size 600x600 with 1 Axes>"
      ]
     },
     "metadata": {},
     "output_type": "display_data"
    }
   ],
   "source": [
    "#Pie Chart representation to understand balance of the target columns\n",
    "comparing_values = df['IsFraud'].value_counts()\n",
    "\n",
    "labels = comparing_values.index.map({0: \"Not Fraud\", 1: \"Fraud\"})\n",
    "\n",
    "plt.figure(figsize=(6, 6))\n",
    "plt.pie(\n",
    "    comparing_values,\n",
    "    labels=labels,\n",
    "    autopct='%1.1f%%',\n",
    "    startangle=90,\n",
    "    colors=['skyblue', 'lightcoral']\n",
    ")\n",
    "plt.title(\"Distribution of Fraud and Non-Fraud Transactions\")\n",
    "plt.show()"
   ]
  },
  {
   "cell_type": "code",
   "execution_count": 19,
   "metadata": {},
   "outputs": [
    {
     "data": {
      "text/plain": [
       "Location\n",
       "Chicago         10193\n",
       "San Diego       10111\n",
       "Dallas          10076\n",
       "San Antonio     10062\n",
       "New York         9993\n",
       "Houston          9991\n",
       "Phoenix          9960\n",
       "Los Angeles      9936\n",
       "Philadelphia     9873\n",
       "San Jose         9805\n",
       "Name: count, dtype: int64"
      ]
     },
     "execution_count": 19,
     "metadata": {},
     "output_type": "execute_result"
    }
   ],
   "source": [
    "# Different types of locations and locations that appear most in the dataset\n",
    "\n",
    "df['Location'].value_counts()"
   ]
  },
  {
   "cell_type": "code",
   "execution_count": 20,
   "metadata": {},
   "outputs": [
    {
     "data": {
      "image/png": "[encoded data removed]",
      "text/plain": [
       "<Figure size 1000x600 with 1 Axes>"
      ]
     },
     "metadata": {},
     "output_type": "display_data"
    }
   ],
   "source": [
    "# Graphical represention of the location\n",
    "location_total = df['Location'].value_counts()\n",
    "\n",
    "plt.figure(figsize=(10, 6))\n",
    "location_total.plot(kind='bar', color='skyblue', edgecolor='black')\n",
    "\n",
    "plt.title('Number of Transactions by Location', fontsize=16)\n",
    "plt.xlabel('Location', fontsize=14)\n",
    "plt.ylabel('Count', fontsize=14)\n",
    "plt.show()"
   ]
  },
  {
   "cell_type": "code",
   "execution_count": 21,
   "metadata": {},
   "outputs": [
    {
     "data": {
      "text/plain": [
       "TransactionType\n",
       "purchase    1.246949e+08\n",
       "refund      1.250144e+08\n",
       "Name: Amount, dtype: float64"
      ]
     },
     "execution_count": 21,
     "metadata": {},
     "output_type": "execute_result"
    }
   ],
   "source": [
    "# Total Amount related to  TransactionType \n",
    "\n",
    "df.groupby(['TransactionType'])['Amount'].sum()"
   ]
  },
  {
   "cell_type": "code",
   "execution_count": 22,
   "metadata": {},
   "outputs": [
    {
     "name": "stdout",
     "output_type": "stream",
     "text": [
      "Data range : 2023-10-21 09:28:35.824439 until 2024-10-21 09:20:35.961088\n"
     ]
    }
   ],
   "source": [
    "# Verify data range of dataset \n",
    "\n",
    "least_recent_date = df['TransactionDate'].min()\n",
    "most_recent_date = df['TransactionDate'].max()\n",
    "\n",
    "\n",
    "print(\"Data range :\", least_recent_date,\"until\",most_recent_date)"
   ]
  },
  {
   "cell_type": "code",
   "execution_count": null,
   "metadata": {},
   "outputs": [
    {
     "data": {
      "text/plain": [
       "TransactionDate\n",
       "2023-10-21    369760.87\n",
       "2023-10-22    717626.99\n",
       "2023-10-23    615269.75\n",
       "2023-10-24    671223.41\n",
       "2023-10-25    618389.80\n",
       "                ...    \n",
       "2024-10-17    681295.57\n",
       "2024-10-18    704287.87\n",
       "2024-10-19    590240.51\n",
       "2024-10-20    652894.65\n",
       "2024-10-21    280354.61\n",
       "Name: Amount, Length: 367, dtype: float64"
      ]
     },
     "execution_count": 113,
     "metadata": {},
     "output_type": "execute_result"
    }
   ],
   "source": [
    "# Total of Amount per  distinct TransactionDate in descending order \n",
    "\n",
    "df_date = df.copy()\n",
    "\n",
    "df_date['TransactionDate'] = pd.to_datetime(df_date['TransactionDate']).dt.date\n",
    "\n",
    "\n",
    "transaction_date_amount = df_date.groupby(['TransactionDate'])['Amount'].sum().sort_index(ascending=True)\n",
    "\n",
    "transaction_date_amount"
   ]
  },
  {
   "cell_type": "code",
   "execution_count": null,
   "metadata": {},
   "outputs": [
    {
     "data": {
      "application/vnd.plotly.v1+json": {
       "config": {
        "plotlyServerURL": "https://plot.ly"
       },
       "data": [
        {
         "alignmentgroup": "True",
         "hovertemplate": "TransactionDate=%{x}<br>Amount=%{y}<extra></extra>",
         "legendgroup": "",
         "marker": {
          "color": "#636efa",
          "pattern": {
           "shape": ""
          }
         },
         "name": "",
         "offsetgroup": "",
         "orientation": "v",
         "showlegend": false,
         "textposition": "auto",
         "type": "bar",
         "x": [
          "2023-10-21",
          "2023-10-22",
          "2023-10-23",
          "2023-10-24",
          "2023-10-25",
          "2023-10-26",
          "2023-10-27",
          "2023-10-28",
          "2023-10-29",
          "2023-10-30",
          "2023-10-31",
          "2023-11-01",
          "2023-11-02",
          "2023-11-03",
          "2023-11-04",
          "2023-11-05",
          "2023-11-06",
          "2023-11-07",
          "2023-11-08",
          "2023-11-09",
          "2023-11-10",
          "2023-11-11",
          "2023-11-12",
          "2023-11-13",
          "2023-11-14",
          "2023-11-15",
          "2023-11-16",
          "2023-11-17",
          "2023-11-18",
          "2023-11-19",
          "2023-11-20",
          "2023-11-21",
          "2023-11-22",
          "2023-11-23",
          "2023-11-24",
          "2023-11-25",
          "2023-11-26",
          "2023-11-27",
          "2023-11-28",
          "2023-11-29",
          "2023-11-30",
          "2023-12-01",
          "2023-12-02",
          "2023-12-03",
          "2023-12-04",
          "2023-12-05",
          "2023-12-06",
          "2023-12-07",
          "2023-12-08",
          "2023-12-09",
          "2023-12-10",
          "2023-12-11",
          "2023-12-12",
          "2023-12-13",
          "2023-12-14",
          "2023-12-15",
          "2023-12-16",
          "2023-12-17",
          "2023-12-18",
          "2023-12-19",
          "2023-12-20",
          "2023-12-21",
          "2023-12-22",
          "2023-12-23",
          "2023-12-24",
          "2023-12-25",
          "2023-12-26",
          "2023-12-27",
          "2023-12-28",
          "2023-12-29",
          "2023-12-30",
          "2023-12-31",
          "2024-01-01",
          "2024-01-02",
          "2024-01-03",
          "2024-01-04",
          "2024-01-05",
          "2024-01-06",
          "2024-01-07",
          "2024-01-08",
          "2024-01-09",
          "2024-01-10",
          "2024-01-11",
          "2024-01-12",
          "2024-01-13",
          "2024-01-14",
          "2024-01-15",
          "2024-01-16",
          "2024-01-17",
          "2024-01-18",
          "2024-01-19",
          "2024-01-20",
          "2024-01-21",
          "2024-01-22",
          "2024-01-23",
          "2024-01-24",
          "2024-01-25",
          "2024-01-26",
          "2024-01-27",
          "2024-01-28",
          "2024-01-29",
          "2024-01-30",
          "2024-01-31",
          "2024-02-01",
          "2024-02-02",
          "2024-02-03",
          "2024-02-04",
          "2024-02-05",
          "2024-02-06",
          "2024-02-07",
          "2024-02-08",
          "2024-02-09",
          "2024-02-10",
          "2024-02-11",
          "2024-02-12",
          "2024-02-13",
          "2024-02-14",
          "2024-02-15",
          "2024-02-16",
          "2024-02-17",
          "2024-02-18",
          "2024-02-19",
          "2024-02-20",
          "2024-02-21",
          "2024-02-22",
          "2024-02-23",
          "2024-02-24",
          "2024-02-25",
          "2024-02-26",
          "2024-02-27",
          "2024-02-28",
          "2024-02-29",
          "2024-03-01",
          "2024-03-02",
          "2024-03-03",
          "2024-03-04",
          "2024-03-05",
          "2024-03-06",
          "2024-03-07",
          "2024-03-08",
          "2024-03-09",
          "2024-03-10",
          "2024-03-11",
          "2024-03-12",
          "2024-03-13",
          "2024-03-14",
          "2024-03-15",
          "2024-03-16",
          "2024-03-17",
          "2024-03-18",
          "2024-03-19",
          "2024-03-20",
          "2024-03-21",
          "2024-03-22",
          "2024-03-23",
          "2024-03-24",
          "2024-03-25",
          "2024-03-26",
          "2024-03-27",
          "2024-03-28",
          "2024-03-29",
          "2024-03-30",
          "2024-03-31",
          "2024-04-01",
          "2024-04-02",
          "2024-04-03",
          "2024-04-04",
          "2024-04-05",
          "2024-04-06",
          "2024-04-07",
          "2024-04-08",
          "2024-04-09",
          "2024-04-10",
          "2024-04-11",
          "2024-04-12",
          "2024-04-13",
          "2024-04-14",
          "2024-04-15",
          "2024-04-16",
          "2024-04-17",
          "2024-04-18",
          "2024-04-19",
          "2024-04-20",
          "2024-04-21",
          "2024-04-22",
          "2024-04-23",
          "2024-04-24",
          "2024-04-25",
          "2024-04-26",
          "2024-04-27",
          "2024-04-28",
          "2024-04-29",
          "2024-04-30",
          "2024-05-01",
          "2024-05-02",
          "2024-05-03",
          "2024-05-04",
          "2024-05-05",
          "2024-05-06",
          "2024-05-07",
          "2024-05-08",
          "2024-05-09",
          "2024-05-10",
          "2024-05-11",
          "2024-05-12",
          "2024-05-13",
          "2024-05-14",
          "2024-05-15",
          "2024-05-16",
          "2024-05-17",
          "2024-05-18",
          "2024-05-19",
          "2024-05-20",
          "2024-05-21",
          "2024-05-22",
          "2024-05-23",
          "2024-05-24",
          "2024-05-25",
          "2024-05-26",
          "2024-05-27",
          "2024-05-28",
          "2024-05-29",
          "2024-05-30",
          "2024-05-31",
          "2024-06-01",
          "2024-06-02",
          "2024-06-03",
          "2024-06-04",
          "2024-06-05",
          "2024-06-06",
          "2024-06-07",
          "2024-06-08",
          "2024-06-09",
          "2024-06-10",
          "2024-06-11",
          "2024-06-12",
          "2024-06-13",
          "2024-06-14",
          "2024-06-15",
          "2024-06-16",
          "2024-06-17",
          "2024-06-18",
          "2024-06-19",
          "2024-06-20",
          "2024-06-21",
          "2024-06-22",
          "2024-06-23",
          "2024-06-24",
          "2024-06-25",
          "2024-06-26",
          "2024-06-27",
          "2024-06-28",
          "2024-06-29",
          "2024-06-30",
          "2024-07-01",
          "2024-07-02",
          "2024-07-03",
          "2024-07-04",
          "2024-07-05",
          "2024-07-06",
          "2024-07-07",
          "2024-07-08",
          "2024-07-09",
          "2024-07-10",
          "2024-07-11",
          "2024-07-12",
          "2024-07-13",
          "2024-07-14",
          "2024-07-15",
          "2024-07-16",
          "2024-07-17",
          "2024-07-18",
          "2024-07-19",
          "2024-07-20",
          "2024-07-21",
          "2024-07-22",
          "2024-07-23",
          "2024-07-24",
          "2024-07-25",
          "2024-07-26",
          "2024-07-27",
          "2024-07-28",
          "2024-07-29",
          "2024-07-30",
          "2024-07-31",
          "2024-08-01",
          "2024-08-02",
          "2024-08-03",
          "2024-08-04",
          "2024-08-05",
          "2024-08-06",
          "2024-08-07",
          "2024-08-08",
          "2024-08-09",
          "2024-08-10",
          "2024-08-11",
          "2024-08-12",
          "2024-08-13",
          "2024-08-14",
          "2024-08-15",
          "2024-08-16",
          "2024-08-17",
          "2024-08-18",
          "2024-08-19",
          "2024-08-20",
          "2024-08-21",
          "2024-08-22",
          "2024-08-23",
          "2024-08-24",
          "2024-08-25",
          "2024-08-26",
          "2024-08-27",
          "2024-08-28",
          "2024-08-29",
          "2024-08-30",
          "2024-08-31",
          "2024-09-01",
          "2024-09-02",
          "2024-09-03",
          "2024-09-04",
          "2024-09-05",
          "2024-09-06",
          "2024-09-07",
          "2024-09-08",
          "2024-09-09",
          "2024-09-10",
          "2024-09-11",
          "2024-09-12",
          "2024-09-13",
          "2024-09-14",
          "2024-09-15",
          "2024-09-16",
          "2024-09-17",
          "2024-09-18",
          "2024-09-19",
          "2024-09-20",
          "2024-09-21",
          "2024-09-22",
          "2024-09-23",
          "2024-09-24",
          "2024-09-25",
          "2024-09-26",
          "2024-09-27",
          "2024-09-28",
          "2024-09-29",
          "2024-09-30",
          "2024-10-01",
          "2024-10-02",
          "2024-10-03",
          "2024-10-04",
          "2024-10-05",
          "2024-10-06",
          "2024-10-07",
          "2024-10-08",
          "2024-10-09",
          "2024-10-10",
          "2024-10-11",
          "2024-10-12",
          "2024-10-13",
          "2024-10-14",
          "2024-10-15",
          "2024-10-16",
          "2024-10-17",
          "2024-10-18",
          "2024-10-19",
          "2024-10-20",
          "2024-10-21"
         ],
         "xaxis": "x",
         "y": [
          369760.87,
          717626.99,
          615269.75,
          671223.41,
          618389.8,
          693974.43,
          680649.22,
          723246.04,
          650207,
          638574.64,
          723553.88,
          610986.08,
          700417.48,
          641873.33,
          674512.3099999999,
          631130.52,
          628592.83,
          607458.78,
          716259.97,
          704154.91,
          684643.53,
          629444.4,
          684035.56,
          691544.98,
          695570.13,
          675842.25,
          665204.87,
          699681.51,
          699148.5,
          650356.07,
          758654.58,
          544343.04,
          691689.86,
          708336.86,
          667502.58,
          601598.01,
          603739,
          688564.67,
          718213.3,
          662371.84,
          686670.3,
          617486.74,
          712871.35,
          692410.3,
          619171.16,
          663832.42,
          785837.72,
          678920.02,
          652373.89,
          618228.45,
          745576.46,
          684829.7,
          743791.96,
          670285.62,
          706287,
          835530.82,
          757503.99,
          693203.8,
          599124.55,
          704487.13,
          650426.09,
          724800.87,
          685783.96,
          795998.69,
          672047.73,
          689269.5,
          623628.77,
          730437.48,
          689221.79,
          616610.76,
          747726.33,
          649892.64,
          695519.83,
          649007.58,
          767189.59,
          694907.42,
          592512.26,
          715092.03,
          772239.8,
          586723.32,
          729498.46,
          696313.59,
          571193.72,
          651776.45,
          704781.19,
          667294.88,
          696581.46,
          663438.96,
          717511.07,
          667097.92,
          625107.99,
          680110.92,
          717538.99,
          634952.27,
          752878.08,
          716171.76,
          661303.64,
          610276.83,
          586233.69,
          756553.72,
          604637.46,
          650409.13,
          660167.38,
          614685.33,
          754747.88,
          715482.81,
          609349.67,
          626215.15,
          682198.6,
          669834.68,
          746109.18,
          708831.99,
          680836.92,
          709230.35,
          676191.18,
          597116.77,
          628120.85,
          661162.16,
          664144.12,
          638573.71,
          743485.4,
          673049.39,
          754150.68,
          698971.99,
          679533.03,
          747566.12,
          692869.69,
          626569.68,
          618742.8099999999,
          645984.65,
          734635.13,
          674288.2,
          684056.94,
          640172.86,
          688518.6,
          598695.97,
          638793.09,
          717623.25,
          718872.91,
          647400.86,
          681804.04,
          730208.4,
          764187.5,
          602371.78,
          725832.99,
          635514.18,
          645066.24,
          667416.15,
          658172.3,
          683096.1,
          774441.11,
          639831.22,
          658368.82,
          725448.89,
          675693.45,
          739361.1,
          727904.0599999999,
          794348.32,
          684522.21,
          704916.08,
          734390.54,
          758682.43,
          719942.24,
          694946.35,
          703934.51,
          676167.89,
          660640.5,
          737598.98,
          629439.88,
          679143.92,
          690321.48,
          703863.82,
          728274.85,
          698128.14,
          631184.12,
          644458.48,
          714180.01,
          692928.55,
          675461.41,
          673883.47,
          721324.5,
          745897.26,
          587237.39,
          692615.55,
          638481.85,
          649005.58,
          696545.68,
          721711.24,
          708853.67,
          699213.18,
          656834.88,
          714678.13,
          662262.02,
          634573.29,
          707213.13,
          709719.75,
          688613.5,
          581776.42,
          635148.21,
          716810.14,
          677953.53,
          704137.11,
          724304.04,
          740268.51,
          707130.12,
          632840.59,
          627993.25,
          723909.76,
          602640.34,
          682625.37,
          739625.85,
          628144.47,
          672852.96,
          734013.13,
          759469.6,
          686283.1,
          692642,
          693244.45,
          643105.9400000001,
          708782.84,
          695929.78,
          669590.67,
          736853.03,
          695477.11,
          627533.38,
          653061.95,
          627256.77,
          701354.81,
          681754.53,
          664514.58,
          706955.83,
          651776.52,
          639035.46,
          659147.04,
          598543.71,
          665197.12,
          741423.55,
          601159.54,
          675989.78,
          741158.23,
          708148.69,
          647623.91,
          650385.96,
          700477.11,
          749981.39,
          761277.13,
          619512.81,
          628283,
          701534.04,
          672994.97,
          645066.42,
          713313.19,
          643716.25,
          565197.45,
          740093.26,
          601733.94,
          703879.54,
          638786.73,
          709803.98,
          669429.99,
          632834.98,
          771108.32,
          703384.28,
          696383.04,
          671069.64,
          673916.33,
          782961.11,
          687466.78,
          684152.03,
          711146.44,
          667844.64,
          668805.47,
          673816,
          766716.51,
          642490.86,
          670561.6,
          622638.18,
          747292.99,
          670301.16,
          646810.62,
          783135.61,
          702920.19,
          735828.93,
          780485.67,
          656305.03,
          698553.62,
          692101.02,
          608370.1,
          757478.94,
          624474.07,
          735227.22,
          690466.08,
          670836.96,
          775891.08,
          699014.16,
          667870.02,
          607556.5,
          646757.18,
          600005.24,
          674492.2,
          666147.29,
          718528.14,
          628771.42,
          606139.89,
          635130.84,
          665774.91,
          701575.7,
          667046.23,
          679482.53,
          705887.4,
          757349.23,
          706798.57,
          612388.17,
          600548.22,
          612581.97,
          839009.89,
          766832.39,
          793263.65,
          772577.93,
          595296.93,
          686567.06,
          696218.18,
          654973.11,
          767688.87,
          730184.49,
          701117.92,
          721863,
          607577.94,
          690611.99,
          685534.41,
          740650.09,
          710285.55,
          669264.5,
          666230.2,
          657455.2,
          703229.88,
          746656.07,
          611994.61,
          713720.39,
          708314.27,
          657733.75,
          745589.62,
          728827.82,
          732854.88,
          655511.46,
          623293.81,
          716334.37,
          671907.29,
          698795.83,
          680400.75,
          695171.19,
          661111.23,
          633794.39,
          724190.89,
          680070.89,
          668404.98,
          772432.62,
          625817.29,
          687590.96,
          710182.57,
          648869.05,
          674606.13,
          681295.57,
          704287.87,
          590240.51,
          652894.65,
          280354.61
         ],
         "yaxis": "y"
        }
       ],
       "layout": {
        "autosize": true,
        "barmode": "relative",
        "legend": {
         "tracegroupgap": 0
        },
        "margin": {
         "t": 60
        },
        "template": {
         "data": {
          "bar": [
           {
            "error_x": {
             "color": "#2a3f5f"
            },
            "error_y": {
             "color": "#2a3f5f"
            },
            "marker": {
             "line": {
              "color": "#E5ECF6",
              "width": 0.5
             },
             "pattern": {
              "fillmode": "overlay",
              "size": 10,
              "solidity": 0.2
             }
            },
            "type": "bar"
           }
          ],
          "barpolar": [
           {
            "marker": {
             "line": {
              "color": "#E5ECF6",
              "width": 0.5
             },
             "pattern": {
              "fillmode": "overlay",
              "size": 10,
              "solidity": 0.2
             }
            },
            "type": "barpolar"
           }
          ],
          "carpet": [
           {
            "aaxis": {
             "endlinecolor": "#2a3f5f",
             "gridcolor": "white",
             "linecolor": "white",
             "minorgridcolor": "white",
             "startlinecolor": "#2a3f5f"
            },
            "baxis": {
             "endlinecolor": "#2a3f5f",
             "gridcolor": "white",
             "linecolor": "white",
             "minorgridcolor": "white",
             "startlinecolor": "#2a3f5f"
            },
            "type": "carpet"
           }
          ],
          "choropleth": [
           {
            "colorbar": {
             "outlinewidth": 0,
             "ticks": ""
            },
            "type": "choropleth"
           }
          ],
          "contour": [
           {
            "colorbar": {
             "outlinewidth": 0,
             "ticks": ""
            },
            "colorscale": [
             [
              0,
              "#0d0887"
             ],
             [
              0.1111111111111111,
              "#46039f"
             ],
             [
              0.2222222222222222,
              "#7201a8"
             ],
             [
              0.3333333333333333,
              "#9c179e"
             ],
             [
              0.4444444444444444,
              "#bd3786"
             ],
             [
              0.5555555555555556,
              "#d8576b"
             ],
             [
              0.6666666666666666,
              "#ed7953"
             ],
             [
              0.7777777777777778,
              "#fb9f3a"
             ],
             [
              0.8888888888888888,
              "#fdca26"
             ],
             [
              1,
              "#f0f921"
             ]
            ],
            "type": "contour"
           }
          ],
          "contourcarpet": [
           {
            "colorbar": {
             "outlinewidth": 0,
             "ticks": ""
            },
            "type": "contourcarpet"
           }
          ],
          "heatmap": [
           {
            "colorbar": {
             "outlinewidth": 0,
             "ticks": ""
            },
            "colorscale": [
             [
              0,
              "#0d0887"
             ],
             [
              0.1111111111111111,
              "#46039f"
             ],
             [
              0.2222222222222222,
              "#7201a8"
             ],
             [
              0.3333333333333333,
              "#9c179e"
             ],
             [
              0.4444444444444444,
              "#bd3786"
             ],
             [
              0.5555555555555556,
              "#d8576b"
             ],
             [
              0.6666666666666666,
              "#ed7953"
             ],
             [
              0.7777777777777778,
              "#fb9f3a"
             ],
             [
              0.8888888888888888,
              "#fdca26"
             ],
             [
              1,
              "#f0f921"
             ]
            ],
            "type": "heatmap"
           }
          ],
          "heatmapgl": [
           {
            "colorbar": {
             "outlinewidth": 0,
             "ticks": ""
            },
            "colorscale": [
             [
              0,
              "#0d0887"
             ],
             [
              0.1111111111111111,
              "#46039f"
             ],
             [
              0.2222222222222222,
              "#7201a8"
             ],
             [
              0.3333333333333333,
              "#9c179e"
             ],
             [
              0.4444444444444444,
              "#bd3786"
             ],
             [
              0.5555555555555556,
              "#d8576b"
             ],
             [
              0.6666666666666666,
              "#ed7953"
             ],
             [
              0.7777777777777778,
              "#fb9f3a"
             ],
             [
              0.8888888888888888,
              "#fdca26"
             ],
             [
              1,
              "#f0f921"
             ]
            ],
            "type": "heatmapgl"
           }
          ],
          "histogram": [
           {
            "marker": {
             "pattern": {
              "fillmode": "overlay",
              "size": 10,
              "solidity": 0.2
             }
            },
            "type": "histogram"
           }
          ],
          "histogram2d": [
           {
            "colorbar": {
             "outlinewidth": 0,
             "ticks": ""
            },
            "colorscale": [
             [
              0,
              "#0d0887"
             ],
             [
              0.1111111111111111,
              "#46039f"
             ],
             [
              0.2222222222222222,
              "#7201a8"
             ],
             [
              0.3333333333333333,
              "#9c179e"
             ],
             [
              0.4444444444444444,
              "#bd3786"
             ],
             [
              0.5555555555555556,
              "#d8576b"
             ],
             [
              0.6666666666666666,
              "#ed7953"
             ],
             [
              0.7777777777777778,
              "#fb9f3a"
             ],
             [
              0.8888888888888888,
              "#fdca26"
             ],
             [
              1,
              "#f0f921"
             ]
            ],
            "type": "histogram2d"
           }
          ],
          "histogram2dcontour": [
           {
            "colorbar": {
             "outlinewidth": 0,
             "ticks": ""
            },
            "colorscale": [
             [
              0,
              "#0d0887"
             ],
             [
              0.1111111111111111,
              "#46039f"
             ],
             [
              0.2222222222222222,
              "#7201a8"
             ],
             [
              0.3333333333333333,
              "#9c179e"
             ],
             [
              0.4444444444444444,
              "#bd3786"
             ],
             [
              0.5555555555555556,
              "#d8576b"
             ],
             [
              0.6666666666666666,
              "#ed7953"
             ],
             [
              0.7777777777777778,
              "#fb9f3a"
             ],
             [
              0.8888888888888888,
              "#fdca26"
             ],
             [
              1,
              "#f0f921"
             ]
            ],
            "type": "histogram2dcontour"
           }
          ],
          "mesh3d": [
           {
            "colorbar": {
             "outlinewidth": 0,
             "ticks": ""
            },
            "type": "mesh3d"
           }
          ],
          "parcoords": [
           {
            "line": {
             "colorbar": {
              "outlinewidth": 0,
              "ticks": ""
             }
            },
            "type": "parcoords"
           }
          ],
          "pie": [
           {
            "automargin": true,
            "type": "pie"
           }
          ],
          "scatter": [
           {
            "fillpattern": {
             "fillmode": "overlay",
             "size": 10,
             "solidity": 0.2
            },
            "type": "scatter"
           }
          ],
          "scatter3d": [
           {
            "line": {
             "colorbar": {
              "outlinewidth": 0,
              "ticks": ""
             }
            },
            "marker": {
             "colorbar": {
              "outlinewidth": 0,
              "ticks": ""
             }
            },
            "type": "scatter3d"
           }
          ],
          "scattercarpet": [
           {
            "marker": {
             "colorbar": {
              "outlinewidth": 0,
              "ticks": ""
             }
            },
            "type": "scattercarpet"
           }
          ],
          "scattergeo": [
           {
            "marker": {
             "colorbar": {
              "outlinewidth": 0,
              "ticks": ""
             }
            },
            "type": "scattergeo"
           }
          ],
          "scattergl": [
           {
            "marker": {
             "colorbar": {
              "outlinewidth": 0,
              "ticks": ""
             }
            },
            "type": "scattergl"
           }
          ],
          "scattermapbox": [
           {
            "marker": {
             "colorbar": {
              "outlinewidth": 0,
              "ticks": ""
             }
            },
            "type": "scattermapbox"
           }
          ],
          "scatterpolar": [
           {
            "marker": {
             "colorbar": {
              "outlinewidth": 0,
              "ticks": ""
             }
            },
            "type": "scatterpolar"
           }
          ],
          "scatterpolargl": [
           {
            "marker": {
             "colorbar": {
              "outlinewidth": 0,
              "ticks": ""
             }
            },
            "type": "scatterpolargl"
           }
          ],
          "scatterternary": [
           {
            "marker": {
             "colorbar": {
              "outlinewidth": 0,
              "ticks": ""
             }
            },
            "type": "scatterternary"
           }
          ],
          "surface": [
           {
            "colorbar": {
             "outlinewidth": 0,
             "ticks": ""
            },
            "colorscale": [
             [
              0,
              "#0d0887"
             ],
             [
              0.1111111111111111,
              "#46039f"
             ],
             [
              0.2222222222222222,
              "#7201a8"
             ],
             [
              0.3333333333333333,
              "#9c179e"
             ],
             [
              0.4444444444444444,
              "#bd3786"
             ],
             [
              0.5555555555555556,
              "#d8576b"
             ],
             [
              0.6666666666666666,
              "#ed7953"
             ],
             [
              0.7777777777777778,
              "#fb9f3a"
             ],
             [
              0.8888888888888888,
              "#fdca26"
             ],
             [
              1,
              "#f0f921"
             ]
            ],
            "type": "surface"
           }
          ],
          "table": [
           {
            "cells": {
             "fill": {
              "color": "#EBF0F8"
             },
             "line": {
              "color": "white"
             }
            },
            "header": {
             "fill": {
              "color": "#C8D4E3"
             },
             "line": {
              "color": "white"
             }
            },
            "type": "table"
           }
          ]
         },
         "layout": {
          "annotationdefaults": {
           "arrowcolor": "#2a3f5f",
           "arrowhead": 0,
           "arrowwidth": 1
          },
          "autotypenumbers": "strict",
          "coloraxis": {
           "colorbar": {
            "outlinewidth": 0,
            "ticks": ""
           }
          },
          "colorscale": {
           "diverging": [
            [
             0,
             "#8e0152"
            ],
            [
             0.1,
             "#c51b7d"
            ],
            [
             0.2,
             "#de77ae"
            ],
            [
             0.3,
             "#f1b6da"
            ],
            [
             0.4,
             "#fde0ef"
            ],
            [
             0.5,
             "#f7f7f7"
            ],
            [
             0.6,
             "#e6f5d0"
            ],
            [
             0.7,
             "#b8e186"
            ],
            [
             0.8,
             "#7fbc41"
            ],
            [
             0.9,
             "#4d9221"
            ],
            [
             1,
             "#276419"
            ]
           ],
           "sequential": [
            [
             0,
             "#0d0887"
            ],
            [
             0.1111111111111111,
             "#46039f"
            ],
            [
             0.2222222222222222,
             "#7201a8"
            ],
            [
             0.3333333333333333,
             "#9c179e"
            ],
            [
             0.4444444444444444,
             "#bd3786"
            ],
            [
             0.5555555555555556,
             "#d8576b"
            ],
            [
             0.6666666666666666,
             "#ed7953"
            ],
            [
             0.7777777777777778,
             "#fb9f3a"
            ],
            [
             0.8888888888888888,
             "#fdca26"
            ],
            [
             1,
             "#f0f921"
            ]
           ],
           "sequentialminus": [
            [
             0,
             "#0d0887"
            ],
            [
             0.1111111111111111,
             "#46039f"
            ],
            [
             0.2222222222222222,
             "#7201a8"
            ],
            [
             0.3333333333333333,
             "#9c179e"
            ],
            [
             0.4444444444444444,
             "#bd3786"
            ],
            [
             0.5555555555555556,
             "#d8576b"
            ],
            [
             0.6666666666666666,
             "#ed7953"
            ],
            [
             0.7777777777777778,
             "#fb9f3a"
            ],
            [
             0.8888888888888888,
             "#fdca26"
            ],
            [
             1,
             "#f0f921"
            ]
           ]
          },
          "colorway": [
           "#636efa",
           "#EF553B",
           "#00cc96",
           "#ab63fa",
           "#FFA15A",
           "#19d3f3",
           "#FF6692",
           "#B6E880",
           "#FF97FF",
           "#FECB52"
          ],
          "font": {
           "color": "#2a3f5f"
          },
          "geo": {
           "bgcolor": "white",
           "lakecolor": "white",
           "landcolor": "#E5ECF6",
           "showlakes": true,
           "showland": true,
           "subunitcolor": "white"
          },
          "hoverlabel": {
           "align": "left"
          },
          "hovermode": "closest",
          "mapbox": {
           "style": "light"
          },
          "paper_bgcolor": "white",
          "plot_bgcolor": "#E5ECF6",
          "polar": {
           "angularaxis": {
            "gridcolor": "white",
            "linecolor": "white",
            "ticks": ""
           },
           "bgcolor": "#E5ECF6",
           "radialaxis": {
            "gridcolor": "white",
            "linecolor": "white",
            "ticks": ""
           }
          },
          "scene": {
           "xaxis": {
            "backgroundcolor": "#E5ECF6",
            "gridcolor": "white",
            "gridwidth": 2,
            "linecolor": "white",
            "showbackground": true,
            "ticks": "",
            "zerolinecolor": "white"
           },
           "yaxis": {
            "backgroundcolor": "#E5ECF6",
            "gridcolor": "white",
            "gridwidth": 2,
            "linecolor": "white",
            "showbackground": true,
            "ticks": "",
            "zerolinecolor": "white"
           },
           "zaxis": {
            "backgroundcolor": "#E5ECF6",
            "gridcolor": "white",
            "gridwidth": 2,
            "linecolor": "white",
            "showbackground": true,
            "ticks": "",
            "zerolinecolor": "white"
           }
          },
          "shapedefaults": {
           "line": {
            "color": "#2a3f5f"
           }
          },
          "ternary": {
           "aaxis": {
            "gridcolor": "white",
            "linecolor": "white",
            "ticks": ""
           },
           "baxis": {
            "gridcolor": "white",
            "linecolor": "white",
            "ticks": ""
           },
           "bgcolor": "#E5ECF6",
           "caxis": {
            "gridcolor": "white",
            "linecolor": "white",
            "ticks": ""
           }
          },
          "title": {
           "x": 0.05
          },
          "xaxis": {
           "automargin": true,
           "gridcolor": "white",
           "linecolor": "white",
           "ticks": "",
           "title": {
            "standoff": 15
           },
           "zerolinecolor": "white",
           "zerolinewidth": 2
          },
          "yaxis": {
           "automargin": true,
           "gridcolor": "white",
           "linecolor": "white",
           "ticks": "",
           "title": {
            "standoff": 15
           },
           "zerolinecolor": "white",
           "zerolinewidth": 2
          }
         }
        },
        "title": {
         "text": "Total Amount per TransactionDate",
         "x": 0.5,
         "xanchor": "center",
         "y": 0.95,
         "yanchor": "top"
        },
        "xaxis": {
         "anchor": "y",
         "autorange": true,
         "domain": [
          0,
          1
         ],
         "range": [
          "2023-10-20 12:00",
          "2024-10-21 12:00"
         ],
         "title": {
          "text": "TransactionDate"
         },
         "type": "date"
        },
        "yaxis": {
         "anchor": "x",
         "autorange": true,
         "domain": [
          0,
          1
         ],
         "range": [
          0,
          883168.3052631579
         ],
         "title": {
          "text": "Amount"
         },
         "type": "linear"
        }
       }
      },
      "image/png": "[encoded data removed]",
      "text/html": [
       "<div>                            <div id=\"4e8eb9be-29bc-4b1c-b88f-e93c024d05fb\" class=\"plotly-graph-div\" style=\"height:525px; width:100%;\"></div>            <script type=\"text/javascript\">                require([\"plotly\"], function(Plotly) {                    window.PLOTLYENV=window.PLOTLYENV || {};                                    if (document.getElementById(\"4e8eb9be-29bc-4b1c-b88f-e93c024d05fb\")) {                    Plotly.newPlot(                        \"4e8eb9be-29bc-4b1c-b88f-e93c024d05fb\",                        [{\"alignmentgroup\":\"True\",\"hovertemplate\":\"TransactionDate=%{x}\\u003cbr\\u003eAmount=%{y}\\u003cextra\\u003e\\u003c\\u002fextra\\u003e\",\"legendgroup\":\"\",\"marker\":{\"color\":\"#636efa\",\"pattern\":{\"shape\":\"\"}},\"name\":\"\",\"offsetgroup\":\"\",\"orientation\":\"v\",\"showlegend\":false,\"textposition\":\"auto\",\"x\":[\"2023-10-21\",\"2023-10-22\",\"2023-10-23\",\"2023-10-24\",\"2023-10-25\",\"2023-10-26\",\"2023-10-27\",\"2023-10-28\",\"2023-10-29\",\"2023-10-30\",\"2023-10-31\",\"2023-11-01\",\"2023-11-02\",\"2023-11-03\",\"2023-11-04\",\"2023-11-05\",\"2023-11-06\",\"2023-11-07\",\"2023-11-08\",\"2023-11-09\",\"2023-11-10\",\"2023-11-11\",\"2023-11-12\",\"2023-11-13\",\"2023-11-14\",\"2023-11-15\",\"2023-11-16\",\"2023-11-17\",\"2023-11-18\",\"2023-11-19\",\"2023-11-20\",\"2023-11-21\",\"2023-11-22\",\"2023-11-23\",\"2023-11-24\",\"2023-11-25\",\"2023-11-26\",\"2023-11-27\",\"2023-11-28\",\"2023-11-29\",\"2023-11-30\",\"2023-12-01\",\"2023-12-02\",\"2023-12-03\",\"2023-12-04\",\"2023-12-05\",\"2023-12-06\",\"2023-12-07\",\"2023-12-08\",\"2023-12-09\",\"2023-12-10\",\"2023-12-11\",\"2023-12-12\",\"2023-12-13\",\"2023-12-14\",\"2023-12-15\",\"2023-12-16\",\"2023-12-17\",\"2023-12-18\",\"2023-12-19\",\"2023-12-20\",\"2023-12-21\",\"2023-12-22\",\"2023-12-23\",\"2023-12-24\",\"2023-12-25\",\"2023-12-26\",\"2023-12-27\",\"2023-12-28\",\"2023-12-29\",\"2023-12-30\",\"2023-12-31\",\"2024-01-01\",\"2024-01-02\",\"2024-01-03\",\"2024-01-04\",\"2024-01-05\",\"2024-01-06\",\"2024-01-07\",\"2024-01-08\",\"2024-01-09\",\"2024-01-10\",\"2024-01-11\",\"2024-01-12\",\"2024-01-13\",\"2024-01-14\",\"2024-01-15\",\"2024-01-16\",\"2024-01-17\",\"2024-01-18\",\"2024-01-19\",\"2024-01-20\",\"2024-01-21\",\"2024-01-22\",\"2024-01-23\",\"2024-01-24\",\"2024-01-25\",\"2024-01-26\",\"2024-01-27\",\"2024-01-28\",\"2024-01-29\",\"2024-01-30\",\"2024-01-31\",\"2024-02-01\",\"2024-02-02\",\"2024-02-03\",\"2024-02-04\",\"2024-02-05\",\"2024-02-06\",\"2024-02-07\",\"2024-02-08\",\"2024-02-09\",\"2024-02-10\",\"2024-02-11\",\"2024-02-12\",\"2024-02-13\",\"2024-02-14\",\"2024-02-15\",\"2024-02-16\",\"2024-02-17\",\"2024-02-18\",\"2024-02-19\",\"2024-02-20\",\"2024-02-21\",\"2024-02-22\",\"2024-02-23\",\"2024-02-24\",\"2024-02-25\",\"2024-02-26\",\"2024-02-27\",\"2024-02-28\",\"2024-02-29\",\"2024-03-01\",\"2024-03-02\",\"2024-03-03\",\"2024-03-04\",\"2024-03-05\",\"2024-03-06\",\"2024-03-07\",\"2024-03-08\",\"2024-03-09\",\"2024-03-10\",\"2024-03-11\",\"2024-03-12\",\"2024-03-13\",\"2024-03-14\",\"2024-03-15\",\"2024-03-16\",\"2024-03-17\",\"2024-03-18\",\"2024-03-19\",\"2024-03-20\",\"2024-03-21\",\"2024-03-22\",\"2024-03-23\",\"2024-03-24\",\"2024-03-25\",\"2024-03-26\",\"2024-03-27\",\"2024-03-28\",\"2024-03-29\",\"2024-03-30\",\"2024-03-31\",\"2024-04-01\",\"2024-04-02\",\"2024-04-03\",\"2024-04-04\",\"2024-04-05\",\"2024-04-06\",\"2024-04-07\",\"2024-04-08\",\"2024-04-09\",\"2024-04-10\",\"2024-04-11\",\"2024-04-12\",\"2024-04-13\",\"2024-04-14\",\"2024-04-15\",\"2024-04-16\",\"2024-04-17\",\"2024-04-18\",\"2024-04-19\",\"2024-04-20\",\"2024-04-21\",\"2024-04-22\",\"2024-04-23\",\"2024-04-24\",\"2024-04-25\",\"2024-04-26\",\"2024-04-27\",\"2024-04-28\",\"2024-04-29\",\"2024-04-30\",\"2024-05-01\",\"2024-05-02\",\"2024-05-03\",\"2024-05-04\",\"2024-05-05\",\"2024-05-06\",\"2024-05-07\",\"2024-05-08\",\"2024-05-09\",\"2024-05-10\",\"2024-05-11\",\"2024-05-12\",\"2024-05-13\",\"2024-05-14\",\"2024-05-15\",\"2024-05-16\",\"2024-05-17\",\"2024-05-18\",\"2024-05-19\",\"2024-05-20\",\"2024-05-21\",\"2024-05-22\",\"2024-05-23\",\"2024-05-24\",\"2024-05-25\",\"2024-05-26\",\"2024-05-27\",\"2024-05-28\",\"2024-05-29\",\"2024-05-30\",\"2024-05-31\",\"2024-06-01\",\"2024-06-02\",\"2024-06-03\",\"2024-06-04\",\"2024-06-05\",\"2024-06-06\",\"2024-06-07\",\"2024-06-08\",\"2024-06-09\",\"2024-06-10\",\"2024-06-11\",\"2024-06-12\",\"2024-06-13\",\"2024-06-14\",\"2024-06-15\",\"2024-06-16\",\"2024-06-17\",\"2024-06-18\",\"2024-06-19\",\"2024-06-20\",\"2024-06-21\",\"2024-06-22\",\"2024-06-23\",\"2024-06-24\",\"2024-06-25\",\"2024-06-26\",\"2024-06-27\",\"2024-06-28\",\"2024-06-29\",\"2024-06-30\",\"2024-07-01\",\"2024-07-02\",\"2024-07-03\",\"2024-07-04\",\"2024-07-05\",\"2024-07-06\",\"2024-07-07\",\"2024-07-08\",\"2024-07-09\",\"2024-07-10\",\"2024-07-11\",\"2024-07-12\",\"2024-07-13\",\"2024-07-14\",\"2024-07-15\",\"2024-07-16\",\"2024-07-17\",\"2024-07-18\",\"2024-07-19\",\"2024-07-20\",\"2024-07-21\",\"2024-07-22\",\"2024-07-23\",\"2024-07-24\",\"2024-07-25\",\"2024-07-26\",\"2024-07-27\",\"2024-07-28\",\"2024-07-29\",\"2024-07-30\",\"2024-07-31\",\"2024-08-01\",\"2024-08-02\",\"2024-08-03\",\"2024-08-04\",\"2024-08-05\",\"2024-08-06\",\"2024-08-07\",\"2024-08-08\",\"2024-08-09\",\"2024-08-10\",\"2024-08-11\",\"2024-08-12\",\"2024-08-13\",\"2024-08-14\",\"2024-08-15\",\"2024-08-16\",\"2024-08-17\",\"2024-08-18\",\"2024-08-19\",\"2024-08-20\",\"2024-08-21\",\"2024-08-22\",\"2024-08-23\",\"2024-08-24\",\"2024-08-25\",\"2024-08-26\",\"2024-08-27\",\"2024-08-28\",\"2024-08-29\",\"2024-08-30\",\"2024-08-31\",\"2024-09-01\",\"2024-09-02\",\"2024-09-03\",\"2024-09-04\",\"2024-09-05\",\"2024-09-06\",\"2024-09-07\",\"2024-09-08\",\"2024-09-09\",\"2024-09-10\",\"2024-09-11\",\"2024-09-12\",\"2024-09-13\",\"2024-09-14\",\"2024-09-15\",\"2024-09-16\",\"2024-09-17\",\"2024-09-18\",\"2024-09-19\",\"2024-09-20\",\"2024-09-21\",\"2024-09-22\",\"2024-09-23\",\"2024-09-24\",\"2024-09-25\",\"2024-09-26\",\"2024-09-27\",\"2024-09-28\",\"2024-09-29\",\"2024-09-30\",\"2024-10-01\",\"2024-10-02\",\"2024-10-03\",\"2024-10-04\",\"2024-10-05\",\"2024-10-06\",\"2024-10-07\",\"2024-10-08\",\"2024-10-09\",\"2024-10-10\",\"2024-10-11\",\"2024-10-12\",\"2024-10-13\",\"2024-10-14\",\"2024-10-15\",\"2024-10-16\",\"2024-10-17\",\"2024-10-18\",\"2024-10-19\",\"2024-10-20\",\"2024-10-21\"],\"xaxis\":\"x\",\"y\":[369760.87,717626.99,615269.75,671223.41,618389.8,693974.43,680649.22,723246.04,650207.0,638574.64,723553.88,610986.08,700417.48,641873.33,674512.3099999999,631130.52,628592.83,607458.78,716259.97,704154.91,684643.53,629444.4,684035.56,691544.98,695570.13,675842.25,665204.87,699681.51,699148.5,650356.07,758654.58,544343.04,691689.86,708336.86,667502.58,601598.01,603739.0,688564.67,718213.3,662371.84,686670.3,617486.74,712871.35,692410.3,619171.16,663832.42,785837.72,678920.02,652373.89,618228.45,745576.46,684829.7,743791.96,670285.62,706287.0,835530.82,757503.99,693203.8,599124.55,704487.13,650426.09,724800.87,685783.96,795998.69,672047.73,689269.5,623628.77,730437.48,689221.79,616610.76,747726.33,649892.64,695519.83,649007.58,767189.59,694907.42,592512.26,715092.03,772239.8,586723.32,729498.46,696313.59,571193.72,651776.45,704781.19,667294.88,696581.46,663438.96,717511.07,667097.92,625107.99,680110.92,717538.99,634952.27,752878.08,716171.76,661303.64,610276.83,586233.69,756553.72,604637.46,650409.13,660167.38,614685.33,754747.88,715482.81,609349.67,626215.15,682198.6,669834.68,746109.18,708831.99,680836.92,709230.35,676191.18,597116.77,628120.85,661162.16,664144.12,638573.71,743485.4,673049.39,754150.68,698971.99,679533.03,747566.12,692869.69,626569.68,618742.8099999999,645984.65,734635.13,674288.2,684056.94,640172.86,688518.6,598695.97,638793.09,717623.25,718872.91,647400.86,681804.04,730208.4,764187.5,602371.78,725832.99,635514.18,645066.24,667416.15,658172.3,683096.1,774441.11,639831.22,658368.82,725448.89,675693.45,739361.1,727904.0599999999,794348.32,684522.21,704916.08,734390.54,758682.43,719942.24,694946.35,703934.51,676167.89,660640.5,737598.98,629439.88,679143.92,690321.48,703863.82,728274.85,698128.14,631184.12,644458.48,714180.01,692928.55,675461.41,673883.47,721324.5,745897.26,587237.39,692615.55,638481.85,649005.58,696545.68,721711.24,708853.67,699213.18,656834.88,714678.13,662262.02,634573.29,707213.13,709719.75,688613.5,581776.42,635148.21,716810.14,677953.53,704137.11,724304.04,740268.51,707130.12,632840.59,627993.25,723909.76,602640.34,682625.37,739625.85,628144.47,672852.96,734013.13,759469.6,686283.1,692642.0,693244.45,643105.9400000001,708782.84,695929.78,669590.67,736853.03,695477.11,627533.38,653061.95,627256.77,701354.81,681754.53,664514.58,706955.83,651776.52,639035.46,659147.04,598543.71,665197.12,741423.55,601159.54,675989.78,741158.23,708148.69,647623.91,650385.96,700477.11,749981.39,761277.13,619512.81,628283.0,701534.04,672994.97,645066.42,713313.19,643716.25,565197.45,740093.26,601733.94,703879.54,638786.73,709803.98,669429.99,632834.98,771108.32,703384.28,696383.04,671069.64,673916.33,782961.11,687466.78,684152.03,711146.44,667844.64,668805.47,673816.0,766716.51,642490.86,670561.6,622638.18,747292.99,670301.16,646810.62,783135.61,702920.19,735828.93,780485.67,656305.03,698553.62,692101.02,608370.1,757478.94,624474.07,735227.22,690466.08,670836.96,775891.08,699014.16,667870.02,607556.5,646757.18,600005.24,674492.2,666147.29,718528.14,628771.42,606139.89,635130.84,665774.91,701575.7,667046.23,679482.53,705887.4,757349.23,706798.57,612388.17,600548.22,612581.97,839009.89,766832.39,793263.65,772577.93,595296.93,686567.06,696218.18,654973.11,767688.87,730184.49,701117.92,721863.0,607577.94,690611.99,685534.41,740650.09,710285.55,669264.5,666230.2,657455.2,703229.88,746656.07,611994.61,713720.39,708314.27,657733.75,745589.62,728827.82,732854.88,655511.46,623293.81,716334.37,671907.29,698795.83,680400.75,695171.19,661111.23,633794.39,724190.89,680070.89,668404.98,772432.62,625817.29,687590.96,710182.57,648869.05,674606.13,681295.57,704287.87,590240.51,652894.65,280354.61],\"yaxis\":\"y\",\"type\":\"bar\"}],                        {\"template\":{\"data\":{\"histogram2dcontour\":[{\"type\":\"histogram2dcontour\",\"colorbar\":{\"outlinewidth\":0,\"ticks\":\"\"},\"colorscale\":[[0.0,\"#0d0887\"],[0.1111111111111111,\"#46039f\"],[0.2222222222222222,\"#7201a8\"],[0.3333333333333333,\"#9c179e\"],[0.4444444444444444,\"#bd3786\"],[0.5555555555555556,\"#d8576b\"],[0.6666666666666666,\"#ed7953\"],[0.7777777777777778,\"#fb9f3a\"],[0.8888888888888888,\"#fdca26\"],[1.0,\"#f0f921\"]]}],\"choropleth\":[{\"type\":\"choropleth\",\"colorbar\":{\"outlinewidth\":0,\"ticks\":\"\"}}],\"histogram2d\":[{\"type\":\"histogram2d\",\"colorbar\":{\"outlinewidth\":0,\"ticks\":\"\"},\"colorscale\":[[0.0,\"#0d0887\"],[0.1111111111111111,\"#46039f\"],[0.2222222222222222,\"#7201a8\"],[0.3333333333333333,\"#9c179e\"],[0.4444444444444444,\"#bd3786\"],[0.5555555555555556,\"#d8576b\"],[0.6666666666666666,\"#ed7953\"],[0.7777777777777778,\"#fb9f3a\"],[0.8888888888888888,\"#fdca26\"],[1.0,\"#f0f921\"]]}],\"heatmap\":[{\"type\":\"heatmap\",\"colorbar\":{\"outlinewidth\":0,\"ticks\":\"\"},\"colorscale\":[[0.0,\"#0d0887\"],[0.1111111111111111,\"#46039f\"],[0.2222222222222222,\"#7201a8\"],[0.3333333333333333,\"#9c179e\"],[0.4444444444444444,\"#bd3786\"],[0.5555555555555556,\"#d8576b\"],[0.6666666666666666,\"#ed7953\"],[0.7777777777777778,\"#fb9f3a\"],[0.8888888888888888,\"#fdca26\"],[1.0,\"#f0f921\"]]}],\"heatmapgl\":[{\"type\":\"heatmapgl\",\"colorbar\":{\"outlinewidth\":0,\"ticks\":\"\"},\"colorscale\":[[0.0,\"#0d0887\"],[0.1111111111111111,\"#46039f\"],[0.2222222222222222,\"#7201a8\"],[0.3333333333333333,\"#9c179e\"],[0.4444444444444444,\"#bd3786\"],[0.5555555555555556,\"#d8576b\"],[0.6666666666666666,\"#ed7953\"],[0.7777777777777778,\"#fb9f3a\"],[0.8888888888888888,\"#fdca26\"],[1.0,\"#f0f921\"]]}],\"contourcarpet\":[{\"type\":\"contourcarpet\",\"colorbar\":{\"outlinewidth\":0,\"ticks\":\"\"}}],\"contour\":[{\"type\":\"contour\",\"colorbar\":{\"outlinewidth\":0,\"ticks\":\"\"},\"colorscale\":[[0.0,\"#0d0887\"],[0.1111111111111111,\"#46039f\"],[0.2222222222222222,\"#7201a8\"],[0.3333333333333333,\"#9c179e\"],[0.4444444444444444,\"#bd3786\"],[0.5555555555555556,\"#d8576b\"],[0.6666666666666666,\"#ed7953\"],[0.7777777777777778,\"#fb9f3a\"],[0.8888888888888888,\"#fdca26\"],[1.0,\"#f0f921\"]]}],\"surface\":[{\"type\":\"surface\",\"colorbar\":{\"outlinewidth\":0,\"ticks\":\"\"},\"colorscale\":[[0.0,\"#0d0887\"],[0.1111111111111111,\"#46039f\"],[0.2222222222222222,\"#7201a8\"],[0.3333333333333333,\"#9c179e\"],[0.4444444444444444,\"#bd3786\"],[0.5555555555555556,\"#d8576b\"],[0.6666666666666666,\"#ed7953\"],[0.7777777777777778,\"#fb9f3a\"],[0.8888888888888888,\"#fdca26\"],[1.0,\"#f0f921\"]]}],\"mesh3d\":[{\"type\":\"mesh3d\",\"colorbar\":{\"outlinewidth\":0,\"ticks\":\"\"}}],\"scatter\":[{\"fillpattern\":{\"fillmode\":\"overlay\",\"size\":10,\"solidity\":0.2},\"type\":\"scatter\"}],\"parcoords\":[{\"type\":\"parcoords\",\"line\":{\"colorbar\":{\"outlinewidth\":0,\"ticks\":\"\"}}}],\"scatterpolargl\":[{\"type\":\"scatterpolargl\",\"marker\":{\"colorbar\":{\"outlinewidth\":0,\"ticks\":\"\"}}}],\"bar\":[{\"error_x\":{\"color\":\"#2a3f5f\"},\"error_y\":{\"color\":\"#2a3f5f\"},\"marker\":{\"line\":{\"color\":\"#E5ECF6\",\"width\":0.5},\"pattern\":{\"fillmode\":\"overlay\",\"size\":10,\"solidity\":0.2}},\"type\":\"bar\"}],\"scattergeo\":[{\"type\":\"scattergeo\",\"marker\":{\"colorbar\":{\"outlinewidth\":0,\"ticks\":\"\"}}}],\"scatterpolar\":[{\"type\":\"scatterpolar\",\"marker\":{\"colorbar\":{\"outlinewidth\":0,\"ticks\":\"\"}}}],\"histogram\":[{\"marker\":{\"pattern\":{\"fillmode\":\"overlay\",\"size\":10,\"solidity\":0.2}},\"type\":\"histogram\"}],\"scattergl\":[{\"type\":\"scattergl\",\"marker\":{\"colorbar\":{\"outlinewidth\":0,\"ticks\":\"\"}}}],\"scatter3d\":[{\"type\":\"scatter3d\",\"line\":{\"colorbar\":{\"outlinewidth\":0,\"ticks\":\"\"}},\"marker\":{\"colorbar\":{\"outlinewidth\":0,\"ticks\":\"\"}}}],\"scattermapbox\":[{\"type\":\"scattermapbox\",\"marker\":{\"colorbar\":{\"outlinewidth\":0,\"ticks\":\"\"}}}],\"scatterternary\":[{\"type\":\"scatterternary\",\"marker\":{\"colorbar\":{\"outlinewidth\":0,\"ticks\":\"\"}}}],\"scattercarpet\":[{\"type\":\"scattercarpet\",\"marker\":{\"colorbar\":{\"outlinewidth\":0,\"ticks\":\"\"}}}],\"carpet\":[{\"aaxis\":{\"endlinecolor\":\"#2a3f5f\",\"gridcolor\":\"white\",\"linecolor\":\"white\",\"minorgridcolor\":\"white\",\"startlinecolor\":\"#2a3f5f\"},\"baxis\":{\"endlinecolor\":\"#2a3f5f\",\"gridcolor\":\"white\",\"linecolor\":\"white\",\"minorgridcolor\":\"white\",\"startlinecolor\":\"#2a3f5f\"},\"type\":\"carpet\"}],\"table\":[{\"cells\":{\"fill\":{\"color\":\"#EBF0F8\"},\"line\":{\"color\":\"white\"}},\"header\":{\"fill\":{\"color\":\"#C8D4E3\"},\"line\":{\"color\":\"white\"}},\"type\":\"table\"}],\"barpolar\":[{\"marker\":{\"line\":{\"color\":\"#E5ECF6\",\"width\":0.5},\"pattern\":{\"fillmode\":\"overlay\",\"size\":10,\"solidity\":0.2}},\"type\":\"barpolar\"}],\"pie\":[{\"automargin\":true,\"type\":\"pie\"}]},\"layout\":{\"autotypenumbers\":\"strict\",\"colorway\":[\"#636efa\",\"#EF553B\",\"#00cc96\",\"#ab63fa\",\"#FFA15A\",\"#19d3f3\",\"#FF6692\",\"#B6E880\",\"#FF97FF\",\"#FECB52\"],\"font\":{\"color\":\"#2a3f5f\"},\"hovermode\":\"closest\",\"hoverlabel\":{\"align\":\"left\"},\"paper_bgcolor\":\"white\",\"plot_bgcolor\":\"#E5ECF6\",\"polar\":{\"bgcolor\":\"#E5ECF6\",\"angularaxis\":{\"gridcolor\":\"white\",\"linecolor\":\"white\",\"ticks\":\"\"},\"radialaxis\":{\"gridcolor\":\"white\",\"linecolor\":\"white\",\"ticks\":\"\"}},\"ternary\":{\"bgcolor\":\"#E5ECF6\",\"aaxis\":{\"gridcolor\":\"white\",\"linecolor\":\"white\",\"ticks\":\"\"},\"baxis\":{\"gridcolor\":\"white\",\"linecolor\":\"white\",\"ticks\":\"\"},\"caxis\":{\"gridcolor\":\"white\",\"linecolor\":\"white\",\"ticks\":\"\"}},\"coloraxis\":{\"colorbar\":{\"outlinewidth\":0,\"ticks\":\"\"}},\"colorscale\":{\"sequential\":[[0.0,\"#0d0887\"],[0.1111111111111111,\"#46039f\"],[0.2222222222222222,\"#7201a8\"],[0.3333333333333333,\"#9c179e\"],[0.4444444444444444,\"#bd3786\"],[0.5555555555555556,\"#d8576b\"],[0.6666666666666666,\"#ed7953\"],[0.7777777777777778,\"#fb9f3a\"],[0.8888888888888888,\"#fdca26\"],[1.0,\"#f0f921\"]],\"sequentialminus\":[[0.0,\"#0d0887\"],[0.1111111111111111,\"#46039f\"],[0.2222222222222222,\"#7201a8\"],[0.3333333333333333,\"#9c179e\"],[0.4444444444444444,\"#bd3786\"],[0.5555555555555556,\"#d8576b\"],[0.6666666666666666,\"#ed7953\"],[0.7777777777777778,\"#fb9f3a\"],[0.8888888888888888,\"#fdca26\"],[1.0,\"#f0f921\"]],\"diverging\":[[0,\"#8e0152\"],[0.1,\"#c51b7d\"],[0.2,\"#de77ae\"],[0.3,\"#f1b6da\"],[0.4,\"#fde0ef\"],[0.5,\"#f7f7f7\"],[0.6,\"#e6f5d0\"],[0.7,\"#b8e186\"],[0.8,\"#7fbc41\"],[0.9,\"#4d9221\"],[1,\"#276419\"]]},\"xaxis\":{\"gridcolor\":\"white\",\"linecolor\":\"white\",\"ticks\":\"\",\"title\":{\"standoff\":15},\"zerolinecolor\":\"white\",\"automargin\":true,\"zerolinewidth\":2},\"yaxis\":{\"gridcolor\":\"white\",\"linecolor\":\"white\",\"ticks\":\"\",\"title\":{\"standoff\":15},\"zerolinecolor\":\"white\",\"automargin\":true,\"zerolinewidth\":2},\"scene\":{\"xaxis\":{\"backgroundcolor\":\"#E5ECF6\",\"gridcolor\":\"white\",\"linecolor\":\"white\",\"showbackground\":true,\"ticks\":\"\",\"zerolinecolor\":\"white\",\"gridwidth\":2},\"yaxis\":{\"backgroundcolor\":\"#E5ECF6\",\"gridcolor\":\"white\",\"linecolor\":\"white\",\"showbackground\":true,\"ticks\":\"\",\"zerolinecolor\":\"white\",\"gridwidth\":2},\"zaxis\":{\"backgroundcolor\":\"#E5ECF6\",\"gridcolor\":\"white\",\"linecolor\":\"white\",\"showbackground\":true,\"ticks\":\"\",\"zerolinecolor\":\"white\",\"gridwidth\":2}},\"shapedefaults\":{\"line\":{\"color\":\"#2a3f5f\"}},\"annotationdefaults\":{\"arrowcolor\":\"#2a3f5f\",\"arrowhead\":0,\"arrowwidth\":1},\"geo\":{\"bgcolor\":\"white\",\"landcolor\":\"#E5ECF6\",\"subunitcolor\":\"white\",\"showland\":true,\"showlakes\":true,\"lakecolor\":\"white\"},\"title\":{\"x\":0.05},\"mapbox\":{\"style\":\"light\"}}},\"xaxis\":{\"anchor\":\"y\",\"domain\":[0.0,1.0],\"title\":{\"text\":\"TransactionDate\"}},\"yaxis\":{\"anchor\":\"x\",\"domain\":[0.0,1.0],\"title\":{\"text\":\"Amount\"}},\"legend\":{\"tracegroupgap\":0},\"margin\":{\"t\":60},\"barmode\":\"relative\",\"title\":{\"text\":\"Total Amount per TransactionDate\",\"y\":0.95,\"x\":0.5,\"xanchor\":\"center\",\"yanchor\":\"top\"}},                        {\"responsive\": true}                    ).then(function(){\n",
       "                            \n",
       "var gd = document.getElementById('4e8eb9be-29bc-4b1c-b88f-e93c024d05fb');\n",
       "var x = new MutationObserver(function (mutations, observer) {{\n",
       "        var display = window.getComputedStyle(gd).display;\n",
       "        if (!display || display === 'none') {{\n",
       "            console.log([gd, 'removed!']);\n",
       "            Plotly.purge(gd);\n",
       "            observer.disconnect();\n",
       "        }}\n",
       "}});\n",
       "\n",
       "// Listen for the removal of the full notebook cells\n",
       "var notebookContainer = gd.closest('#notebook-container');\n",
       "if (notebookContainer) {{\n",
       "    x.observe(notebookContainer, {childList: true});\n",
       "}}\n",
       "\n",
       "// Listen for the clearing of the current output cell\n",
       "var outputEl = gd.closest('.output');\n",
       "if (outputEl) {{\n",
       "    x.observe(outputEl, {childList: true});\n",
       "}}\n",
       "\n",
       "                        })                };                });            </script>        </div>"
      ]
     },
     "metadata": {},
     "output_type": "display_data"
    }
   ],
   "source": [
    "# Amount per Transaction Date\n",
    "\n",
    "fig = px.bar(transaction_date_amount, x=transaction_date_amount.index, y=\"Amount\")\n",
    "fig.update_layout(\n",
    "      title={\n",
    "        'text': \"Total Amount per TransactionDate\",\n",
    "        'y':0.95,\n",
    "        'x':0.5,\n",
    "        'xanchor': 'center',\n",
    "        'yanchor': 'top'},\n",
    "    xaxis_title=\"TransactionDate\",\n",
    "    yaxis_title=\"Amount\"\n",
    ")\n",
    "fig.show()"
   ]
  },
  {
   "cell_type": "code",
   "execution_count": null,
   "metadata": {},
   "outputs": [
    {
     "data": {
      "application/vnd.plotly.v1+json": {
       "config": {
        "plotlyServerURL": "https://plot.ly"
       },
       "data": [
        {
         "alignmentgroup": "True",
         "bingroup": "x",
         "histfunc": "sum",
         "hovertemplate": "TransactionType=purchase<br>Location=%{x}<br>sum of Count=%{y}<extra></extra>",
         "legendgroup": "purchase",
         "marker": {
          "color": "#636efa",
          "pattern": {
           "shape": ""
          }
         },
         "name": "purchase",
         "offsetgroup": "purchase",
         "orientation": "v",
         "showlegend": true,
         "type": "histogram",
         "x": [
          "Chicago",
          "Dallas",
          "Houston",
          "Los Angeles",
          "New York",
          "Philadelphia",
          "Phoenix",
          "San Antonio",
          "San Diego",
          "San Jose"
         ],
         "xaxis": "x",
         "y": [
          5026,
          5066,
          4995,
          4878,
          4984,
          5011,
          4929,
          5057,
          5015,
          4908
         ],
         "yaxis": "y"
        },
        {
         "alignmentgroup": "True",
         "bingroup": "x",
         "histfunc": "sum",
         "hovertemplate": "TransactionType=refund<br>Location=%{x}<br>sum of Count=%{y}<extra></extra>",
         "legendgroup": "refund",
         "marker": {
          "color": "#EF553B",
          "pattern": {
           "shape": ""
          }
         },
         "name": "refund",
         "offsetgroup": "refund",
         "orientation": "v",
         "showlegend": true,
         "type": "histogram",
         "x": [
          "Chicago",
          "Dallas",
          "Houston",
          "Los Angeles",
          "New York",
          "Philadelphia",
          "Phoenix",
          "San Antonio",
          "San Diego",
          "San Jose"
         ],
         "xaxis": "x",
         "y": [
          5167,
          5010,
          4996,
          5058,
          5009,
          4862,
          5031,
          5005,
          5096,
          4897
         ],
         "yaxis": "y"
        }
       ],
       "layout": {
        "autosize": true,
        "barmode": "relative",
        "legend": {
         "title": {
          "text": "TransactionType"
         },
         "tracegroupgap": 0
        },
        "margin": {
         "t": 60
        },
        "template": {
         "data": {
          "bar": [
           {
            "error_x": {
             "color": "#2a3f5f"
            },
            "error_y": {
             "color": "#2a3f5f"
            },
            "marker": {
             "line": {
              "color": "#E5ECF6",
              "width": 0.5
             },
             "pattern": {
              "fillmode": "overlay",
              "size": 10,
              "solidity": 0.2
             }
            },
            "type": "bar"
           }
          ],
          "barpolar": [
           {
            "marker": {
             "line": {
              "color": "#E5ECF6",
              "width": 0.5
             },
             "pattern": {
              "fillmode": "overlay",
              "size": 10,
              "solidity": 0.2
             }
            },
            "type": "barpolar"
           }
          ],
          "carpet": [
           {
            "aaxis": {
             "endlinecolor": "#2a3f5f",
             "gridcolor": "white",
             "linecolor": "white",
             "minorgridcolor": "white",
             "startlinecolor": "#2a3f5f"
            },
            "baxis": {
             "endlinecolor": "#2a3f5f",
             "gridcolor": "white",
             "linecolor": "white",
             "minorgridcolor": "white",
             "startlinecolor": "#2a3f5f"
            },
            "type": "carpet"
           }
          ],
          "choropleth": [
           {
            "colorbar": {
             "outlinewidth": 0,
             "ticks": ""
            },
            "type": "choropleth"
           }
          ],
          "contour": [
           {
            "colorbar": {
             "outlinewidth": 0,
             "ticks": ""
            },
            "colorscale": [
             [
              0,
              "#0d0887"
             ],
             [
              0.1111111111111111,
              "#46039f"
             ],
             [
              0.2222222222222222,
              "#7201a8"
             ],
             [
              0.3333333333333333,
              "#9c179e"
             ],
             [
              0.4444444444444444,
              "#bd3786"
             ],
             [
              0.5555555555555556,
              "#d8576b"
             ],
             [
              0.6666666666666666,
              "#ed7953"
             ],
             [
              0.7777777777777778,
              "#fb9f3a"
             ],
             [
              0.8888888888888888,
              "#fdca26"
             ],
             [
              1,
              "#f0f921"
             ]
            ],
            "type": "contour"
           }
          ],
          "contourcarpet": [
           {
            "colorbar": {
             "outlinewidth": 0,
             "ticks": ""
            },
            "type": "contourcarpet"
           }
          ],
          "heatmap": [
           {
            "colorbar": {
             "outlinewidth": 0,
             "ticks": ""
            },
            "colorscale": [
             [
              0,
              "#0d0887"
             ],
             [
              0.1111111111111111,
              "#46039f"
             ],
             [
              0.2222222222222222,
              "#7201a8"
             ],
             [
              0.3333333333333333,
              "#9c179e"
             ],
             [
              0.4444444444444444,
              "#bd3786"
             ],
             [
              0.5555555555555556,
              "#d8576b"
             ],
             [
              0.6666666666666666,
              "#ed7953"
             ],
             [
              0.7777777777777778,
              "#fb9f3a"
             ],
             [
              0.8888888888888888,
              "#fdca26"
             ],
             [
              1,
              "#f0f921"
             ]
            ],
            "type": "heatmap"
           }
          ],
          "heatmapgl": [
           {
            "colorbar": {
             "outlinewidth": 0,
             "ticks": ""
            },
            "colorscale": [
             [
              0,
              "#0d0887"
             ],
             [
              0.1111111111111111,
              "#46039f"
             ],
             [
              0.2222222222222222,
              "#7201a8"
             ],
             [
              0.3333333333333333,
              "#9c179e"
             ],
             [
              0.4444444444444444,
              "#bd3786"
             ],
             [
              0.5555555555555556,
              "#d8576b"
             ],
             [
              0.6666666666666666,
              "#ed7953"
             ],
             [
              0.7777777777777778,
              "#fb9f3a"
             ],
             [
              0.8888888888888888,
              "#fdca26"
             ],
             [
              1,
              "#f0f921"
             ]
            ],
            "type": "heatmapgl"
           }
          ],
          "histogram": [
           {
            "marker": {
             "pattern": {
              "fillmode": "overlay",
              "size": 10,
              "solidity": 0.2
             }
            },
            "type": "histogram"
           }
          ],
          "histogram2d": [
           {
            "colorbar": {
             "outlinewidth": 0,
             "ticks": ""
            },
            "colorscale": [
             [
              0,
              "#0d0887"
             ],
             [
              0.1111111111111111,
              "#46039f"
             ],
             [
              0.2222222222222222,
              "#7201a8"
             ],
             [
              0.3333333333333333,
              "#9c179e"
             ],
             [
              0.4444444444444444,
              "#bd3786"
             ],
             [
              0.5555555555555556,
              "#d8576b"
             ],
             [
              0.6666666666666666,
              "#ed7953"
             ],
             [
              0.7777777777777778,
              "#fb9f3a"
             ],
             [
              0.8888888888888888,
              "#fdca26"
             ],
             [
              1,
              "#f0f921"
             ]
            ],
            "type": "histogram2d"
           }
          ],
          "histogram2dcontour": [
           {
            "colorbar": {
             "outlinewidth": 0,
             "ticks": ""
            },
            "colorscale": [
             [
              0,
              "#0d0887"
             ],
             [
              0.1111111111111111,
              "#46039f"
             ],
             [
              0.2222222222222222,
              "#7201a8"
             ],
             [
              0.3333333333333333,
              "#9c179e"
             ],
             [
              0.4444444444444444,
              "#bd3786"
             ],
             [
              0.5555555555555556,
              "#d8576b"
             ],
             [
              0.6666666666666666,
              "#ed7953"
             ],
             [
              0.7777777777777778,
              "#fb9f3a"
             ],
             [
              0.8888888888888888,
              "#fdca26"
             ],
             [
              1,
              "#f0f921"
             ]
            ],
            "type": "histogram2dcontour"
           }
          ],
          "mesh3d": [
           {
            "colorbar": {
             "outlinewidth": 0,
             "ticks": ""
            },
            "type": "mesh3d"
           }
          ],
          "parcoords": [
           {
            "line": {
             "colorbar": {
              "outlinewidth": 0,
              "ticks": ""
             }
            },
            "type": "parcoords"
           }
          ],
          "pie": [
           {
            "automargin": true,
            "type": "pie"
           }
          ],
          "scatter": [
           {
            "fillpattern": {
             "fillmode": "overlay",
             "size": 10,
             "solidity": 0.2
            },
            "type": "scatter"
           }
          ],
          "scatter3d": [
           {
            "line": {
             "colorbar": {
              "outlinewidth": 0,
              "ticks": ""
             }
            },
            "marker": {
             "colorbar": {
              "outlinewidth": 0,
              "ticks": ""
             }
            },
            "type": "scatter3d"
           }
          ],
          "scattercarpet": [
           {
            "marker": {
             "colorbar": {
              "outlinewidth": 0,
              "ticks": ""
             }
            },
            "type": "scattercarpet"
           }
          ],
          "scattergeo": [
           {
            "marker": {
             "colorbar": {
              "outlinewidth": 0,
              "ticks": ""
             }
            },
            "type": "scattergeo"
           }
          ],
          "scattergl": [
           {
            "marker": {
             "colorbar": {
              "outlinewidth": 0,
              "ticks": ""
             }
            },
            "type": "scattergl"
           }
          ],
          "scattermapbox": [
           {
            "marker": {
             "colorbar": {
              "outlinewidth": 0,
              "ticks": ""
             }
            },
            "type": "scattermapbox"
           }
          ],
          "scatterpolar": [
           {
            "marker": {
             "colorbar": {
              "outlinewidth": 0,
              "ticks": ""
             }
            },
            "type": "scatterpolar"
           }
          ],
          "scatterpolargl": [
           {
            "marker": {
             "colorbar": {
              "outlinewidth": 0,
              "ticks": ""
             }
            },
            "type": "scatterpolargl"
           }
          ],
          "scatterternary": [
           {
            "marker": {
             "colorbar": {
              "outlinewidth": 0,
              "ticks": ""
             }
            },
            "type": "scatterternary"
           }
          ],
          "surface": [
           {
            "colorbar": {
             "outlinewidth": 0,
             "ticks": ""
            },
            "colorscale": [
             [
              0,
              "#0d0887"
             ],
             [
              0.1111111111111111,
              "#46039f"
             ],
             [
              0.2222222222222222,
              "#7201a8"
             ],
             [
              0.3333333333333333,
              "#9c179e"
             ],
             [
              0.4444444444444444,
              "#bd3786"
             ],
             [
              0.5555555555555556,
              "#d8576b"
             ],
             [
              0.6666666666666666,
              "#ed7953"
             ],
             [
              0.7777777777777778,
              "#fb9f3a"
             ],
             [
              0.8888888888888888,
              "#fdca26"
             ],
             [
              1,
              "#f0f921"
             ]
            ],
            "type": "surface"
           }
          ],
          "table": [
           {
            "cells": {
             "fill": {
              "color": "#EBF0F8"
             },
             "line": {
              "color": "white"
             }
            },
            "header": {
             "fill": {
              "color": "#C8D4E3"
             },
             "line": {
              "color": "white"
             }
            },
            "type": "table"
           }
          ]
         },
         "layout": {
          "annotationdefaults": {
           "arrowcolor": "#2a3f5f",
           "arrowhead": 0,
           "arrowwidth": 1
          },
          "autotypenumbers": "strict",
          "coloraxis": {
           "colorbar": {
            "outlinewidth": 0,
            "ticks": ""
           }
          },
          "colorscale": {
           "diverging": [
            [
             0,
             "#8e0152"
            ],
            [
             0.1,
             "#c51b7d"
            ],
            [
             0.2,
             "#de77ae"
            ],
            [
             0.3,
             "#f1b6da"
            ],
            [
             0.4,
             "#fde0ef"
            ],
            [
             0.5,
             "#f7f7f7"
            ],
            [
             0.6,
             "#e6f5d0"
            ],
            [
             0.7,
             "#b8e186"
            ],
            [
             0.8,
             "#7fbc41"
            ],
            [
             0.9,
             "#4d9221"
            ],
            [
             1,
             "#276419"
            ]
           ],
           "sequential": [
            [
             0,
             "#0d0887"
            ],
            [
             0.1111111111111111,
             "#46039f"
            ],
            [
             0.2222222222222222,
             "#7201a8"
            ],
            [
             0.3333333333333333,
             "#9c179e"
            ],
            [
             0.4444444444444444,
             "#bd3786"
            ],
            [
             0.5555555555555556,
             "#d8576b"
            ],
            [
             0.6666666666666666,
             "#ed7953"
            ],
            [
             0.7777777777777778,
             "#fb9f3a"
            ],
            [
             0.8888888888888888,
             "#fdca26"
            ],
            [
             1,
             "#f0f921"
            ]
           ],
           "sequentialminus": [
            [
             0,
             "#0d0887"
            ],
            [
             0.1111111111111111,
             "#46039f"
            ],
            [
             0.2222222222222222,
             "#7201a8"
            ],
            [
             0.3333333333333333,
             "#9c179e"
            ],
            [
             0.4444444444444444,
             "#bd3786"
            ],
            [
             0.5555555555555556,
             "#d8576b"
            ],
            [
             0.6666666666666666,
             "#ed7953"
            ],
            [
             0.7777777777777778,
             "#fb9f3a"
            ],
            [
             0.8888888888888888,
             "#fdca26"
            ],
            [
             1,
             "#f0f921"
            ]
           ]
          },
          "colorway": [
           "#636efa",
           "#EF553B",
           "#00cc96",
           "#ab63fa",
           "#FFA15A",
           "#19d3f3",
           "#FF6692",
           "#B6E880",
           "#FF97FF",
           "#FECB52"
          ],
          "font": {
           "color": "#2a3f5f"
          },
          "geo": {
           "bgcolor": "white",
           "lakecolor": "white",
           "landcolor": "#E5ECF6",
           "showlakes": true,
           "showland": true,
           "subunitcolor": "white"
          },
          "hoverlabel": {
           "align": "left"
          },
          "hovermode": "closest",
          "mapbox": {
           "style": "light"
          },
          "paper_bgcolor": "white",
          "plot_bgcolor": "#E5ECF6",
          "polar": {
           "angularaxis": {
            "gridcolor": "white",
            "linecolor": "white",
            "ticks": ""
           },
           "bgcolor": "#E5ECF6",
           "radialaxis": {
            "gridcolor": "white",
            "linecolor": "white",
            "ticks": ""
           }
          },
          "scene": {
           "xaxis": {
            "backgroundcolor": "#E5ECF6",
            "gridcolor": "white",
            "gridwidth": 2,
            "linecolor": "white",
            "showbackground": true,
            "ticks": "",
            "zerolinecolor": "white"
           },
           "yaxis": {
            "backgroundcolor": "#E5ECF6",
            "gridcolor": "white",
            "gridwidth": 2,
            "linecolor": "white",
            "showbackground": true,
            "ticks": "",
            "zerolinecolor": "white"
           },
           "zaxis": {
            "backgroundcolor": "#E5ECF6",
            "gridcolor": "white",
            "gridwidth": 2,
            "linecolor": "white",
            "showbackground": true,
            "ticks": "",
            "zerolinecolor": "white"
           }
          },
          "shapedefaults": {
           "line": {
            "color": "#2a3f5f"
           }
          },
          "ternary": {
           "aaxis": {
            "gridcolor": "white",
            "linecolor": "white",
            "ticks": ""
           },
           "baxis": {
            "gridcolor": "white",
            "linecolor": "white",
            "ticks": ""
           },
           "bgcolor": "#E5ECF6",
           "caxis": {
            "gridcolor": "white",
            "linecolor": "white",
            "ticks": ""
           }
          },
          "title": {
           "x": 0.05
          },
          "xaxis": {
           "automargin": true,
           "gridcolor": "white",
           "linecolor": "white",
           "ticks": "",
           "title": {
            "standoff": 15
           },
           "zerolinecolor": "white",
           "zerolinewidth": 2
          },
          "yaxis": {
           "automargin": true,
           "gridcolor": "white",
           "linecolor": "white",
           "ticks": "",
           "title": {
            "standoff": 15
           },
           "zerolinecolor": "white",
           "zerolinewidth": 2
          }
         }
        },
        "title": {
         "text": "Total of Transactions Type per Location",
         "x": 0.5,
         "xanchor": "center",
         "y": 0.95,
         "yanchor": "top"
        },
        "xaxis": {
         "anchor": "y",
         "autorange": true,
         "domain": [
          0,
          1
         ],
         "range": [
          -0.5,
          9.5
         ],
         "title": {
          "text": "Locations"
         },
         "type": "category"
        },
        "yaxis": {
         "anchor": "x",
         "autorange": true,
         "domain": [
          0,
          1
         ],
         "range": [
          0,
          10729.473684210527
         ],
         "title": {
          "text": "Total of Transactions"
         },
         "type": "linear"
        }
       }
      },
      "image/png": "[encoded data removed]",
      "text/html": [
       "<div>                            <div id=\"14f917a5-4c0f-45a6-a18e-431a242ce1c2\" class=\"plotly-graph-div\" style=\"height:525px; width:100%;\"></div>            <script type=\"text/javascript\">                require([\"plotly\"], function(Plotly) {                    window.PLOTLYENV=window.PLOTLYENV || {};                                    if (document.getElementById(\"14f917a5-4c0f-45a6-a18e-431a242ce1c2\")) {                    Plotly.newPlot(                        \"14f917a5-4c0f-45a6-a18e-431a242ce1c2\",                        [{\"alignmentgroup\":\"True\",\"bingroup\":\"x\",\"histfunc\":\"sum\",\"hovertemplate\":\"TransactionType=purchase\\u003cbr\\u003eLocation=%{x}\\u003cbr\\u003esum of Count=%{y}\\u003cextra\\u003e\\u003c\\u002fextra\\u003e\",\"legendgroup\":\"purchase\",\"marker\":{\"color\":\"#636efa\",\"pattern\":{\"shape\":\"\"}},\"name\":\"purchase\",\"offsetgroup\":\"purchase\",\"orientation\":\"v\",\"showlegend\":true,\"x\":[\"Chicago\",\"Dallas\",\"Houston\",\"Los Angeles\",\"New York\",\"Philadelphia\",\"Phoenix\",\"San Antonio\",\"San Diego\",\"San Jose\"],\"xaxis\":\"x\",\"y\":[5026,5066,4995,4878,4984,5011,4929,5057,5015,4908],\"yaxis\":\"y\",\"type\":\"histogram\"},{\"alignmentgroup\":\"True\",\"bingroup\":\"x\",\"histfunc\":\"sum\",\"hovertemplate\":\"TransactionType=refund\\u003cbr\\u003eLocation=%{x}\\u003cbr\\u003esum of Count=%{y}\\u003cextra\\u003e\\u003c\\u002fextra\\u003e\",\"legendgroup\":\"refund\",\"marker\":{\"color\":\"#EF553B\",\"pattern\":{\"shape\":\"\"}},\"name\":\"refund\",\"offsetgroup\":\"refund\",\"orientation\":\"v\",\"showlegend\":true,\"x\":[\"Chicago\",\"Dallas\",\"Houston\",\"Los Angeles\",\"New York\",\"Philadelphia\",\"Phoenix\",\"San Antonio\",\"San Diego\",\"San Jose\"],\"xaxis\":\"x\",\"y\":[5167,5010,4996,5058,5009,4862,5031,5005,5096,4897],\"yaxis\":\"y\",\"type\":\"histogram\"}],                        {\"template\":{\"data\":{\"histogram2dcontour\":[{\"type\":\"histogram2dcontour\",\"colorbar\":{\"outlinewidth\":0,\"ticks\":\"\"},\"colorscale\":[[0.0,\"#0d0887\"],[0.1111111111111111,\"#46039f\"],[0.2222222222222222,\"#7201a8\"],[0.3333333333333333,\"#9c179e\"],[0.4444444444444444,\"#bd3786\"],[0.5555555555555556,\"#d8576b\"],[0.6666666666666666,\"#ed7953\"],[0.7777777777777778,\"#fb9f3a\"],[0.8888888888888888,\"#fdca26\"],[1.0,\"#f0f921\"]]}],\"choropleth\":[{\"type\":\"choropleth\",\"colorbar\":{\"outlinewidth\":0,\"ticks\":\"\"}}],\"histogram2d\":[{\"type\":\"histogram2d\",\"colorbar\":{\"outlinewidth\":0,\"ticks\":\"\"},\"colorscale\":[[0.0,\"#0d0887\"],[0.1111111111111111,\"#46039f\"],[0.2222222222222222,\"#7201a8\"],[0.3333333333333333,\"#9c179e\"],[0.4444444444444444,\"#bd3786\"],[0.5555555555555556,\"#d8576b\"],[0.6666666666666666,\"#ed7953\"],[0.7777777777777778,\"#fb9f3a\"],[0.8888888888888888,\"#fdca26\"],[1.0,\"#f0f921\"]]}],\"heatmap\":[{\"type\":\"heatmap\",\"colorbar\":{\"outlinewidth\":0,\"ticks\":\"\"},\"colorscale\":[[0.0,\"#0d0887\"],[0.1111111111111111,\"#46039f\"],[0.2222222222222222,\"#7201a8\"],[0.3333333333333333,\"#9c179e\"],[0.4444444444444444,\"#bd3786\"],[0.5555555555555556,\"#d8576b\"],[0.6666666666666666,\"#ed7953\"],[0.7777777777777778,\"#fb9f3a\"],[0.8888888888888888,\"#fdca26\"],[1.0,\"#f0f921\"]]}],\"heatmapgl\":[{\"type\":\"heatmapgl\",\"colorbar\":{\"outlinewidth\":0,\"ticks\":\"\"},\"colorscale\":[[0.0,\"#0d0887\"],[0.1111111111111111,\"#46039f\"],[0.2222222222222222,\"#7201a8\"],[0.3333333333333333,\"#9c179e\"],[0.4444444444444444,\"#bd3786\"],[0.5555555555555556,\"#d8576b\"],[0.6666666666666666,\"#ed7953\"],[0.7777777777777778,\"#fb9f3a\"],[0.8888888888888888,\"#fdca26\"],[1.0,\"#f0f921\"]]}],\"contourcarpet\":[{\"type\":\"contourcarpet\",\"colorbar\":{\"outlinewidth\":0,\"ticks\":\"\"}}],\"contour\":[{\"type\":\"contour\",\"colorbar\":{\"outlinewidth\":0,\"ticks\":\"\"},\"colorscale\":[[0.0,\"#0d0887\"],[0.1111111111111111,\"#46039f\"],[0.2222222222222222,\"#7201a8\"],[0.3333333333333333,\"#9c179e\"],[0.4444444444444444,\"#bd3786\"],[0.5555555555555556,\"#d8576b\"],[0.6666666666666666,\"#ed7953\"],[0.7777777777777778,\"#fb9f3a\"],[0.8888888888888888,\"#fdca26\"],[1.0,\"#f0f921\"]]}],\"surface\":[{\"type\":\"surface\",\"colorbar\":{\"outlinewidth\":0,\"ticks\":\"\"},\"colorscale\":[[0.0,\"#0d0887\"],[0.1111111111111111,\"#46039f\"],[0.2222222222222222,\"#7201a8\"],[0.3333333333333333,\"#9c179e\"],[0.4444444444444444,\"#bd3786\"],[0.5555555555555556,\"#d8576b\"],[0.6666666666666666,\"#ed7953\"],[0.7777777777777778,\"#fb9f3a\"],[0.8888888888888888,\"#fdca26\"],[1.0,\"#f0f921\"]]}],\"mesh3d\":[{\"type\":\"mesh3d\",\"colorbar\":{\"outlinewidth\":0,\"ticks\":\"\"}}],\"scatter\":[{\"fillpattern\":{\"fillmode\":\"overlay\",\"size\":10,\"solidity\":0.2},\"type\":\"scatter\"}],\"parcoords\":[{\"type\":\"parcoords\",\"line\":{\"colorbar\":{\"outlinewidth\":0,\"ticks\":\"\"}}}],\"scatterpolargl\":[{\"type\":\"scatterpolargl\",\"marker\":{\"colorbar\":{\"outlinewidth\":0,\"ticks\":\"\"}}}],\"bar\":[{\"error_x\":{\"color\":\"#2a3f5f\"},\"error_y\":{\"color\":\"#2a3f5f\"},\"marker\":{\"line\":{\"color\":\"#E5ECF6\",\"width\":0.5},\"pattern\":{\"fillmode\":\"overlay\",\"size\":10,\"solidity\":0.2}},\"type\":\"bar\"}],\"scattergeo\":[{\"type\":\"scattergeo\",\"marker\":{\"colorbar\":{\"outlinewidth\":0,\"ticks\":\"\"}}}],\"scatterpolar\":[{\"type\":\"scatterpolar\",\"marker\":{\"colorbar\":{\"outlinewidth\":0,\"ticks\":\"\"}}}],\"histogram\":[{\"marker\":{\"pattern\":{\"fillmode\":\"overlay\",\"size\":10,\"solidity\":0.2}},\"type\":\"histogram\"}],\"scattergl\":[{\"type\":\"scattergl\",\"marker\":{\"colorbar\":{\"outlinewidth\":0,\"ticks\":\"\"}}}],\"scatter3d\":[{\"type\":\"scatter3d\",\"line\":{\"colorbar\":{\"outlinewidth\":0,\"ticks\":\"\"}},\"marker\":{\"colorbar\":{\"outlinewidth\":0,\"ticks\":\"\"}}}],\"scattermapbox\":[{\"type\":\"scattermapbox\",\"marker\":{\"colorbar\":{\"outlinewidth\":0,\"ticks\":\"\"}}}],\"scatterternary\":[{\"type\":\"scatterternary\",\"marker\":{\"colorbar\":{\"outlinewidth\":0,\"ticks\":\"\"}}}],\"scattercarpet\":[{\"type\":\"scattercarpet\",\"marker\":{\"colorbar\":{\"outlinewidth\":0,\"ticks\":\"\"}}}],\"carpet\":[{\"aaxis\":{\"endlinecolor\":\"#2a3f5f\",\"gridcolor\":\"white\",\"linecolor\":\"white\",\"minorgridcolor\":\"white\",\"startlinecolor\":\"#2a3f5f\"},\"baxis\":{\"endlinecolor\":\"#2a3f5f\",\"gridcolor\":\"white\",\"linecolor\":\"white\",\"minorgridcolor\":\"white\",\"startlinecolor\":\"#2a3f5f\"},\"type\":\"carpet\"}],\"table\":[{\"cells\":{\"fill\":{\"color\":\"#EBF0F8\"},\"line\":{\"color\":\"white\"}},\"header\":{\"fill\":{\"color\":\"#C8D4E3\"},\"line\":{\"color\":\"white\"}},\"type\":\"table\"}],\"barpolar\":[{\"marker\":{\"line\":{\"color\":\"#E5ECF6\",\"width\":0.5},\"pattern\":{\"fillmode\":\"overlay\",\"size\":10,\"solidity\":0.2}},\"type\":\"barpolar\"}],\"pie\":[{\"automargin\":true,\"type\":\"pie\"}]},\"layout\":{\"autotypenumbers\":\"strict\",\"colorway\":[\"#636efa\",\"#EF553B\",\"#00cc96\",\"#ab63fa\",\"#FFA15A\",\"#19d3f3\",\"#FF6692\",\"#B6E880\",\"#FF97FF\",\"#FECB52\"],\"font\":{\"color\":\"#2a3f5f\"},\"hovermode\":\"closest\",\"hoverlabel\":{\"align\":\"left\"},\"paper_bgcolor\":\"white\",\"plot_bgcolor\":\"#E5ECF6\",\"polar\":{\"bgcolor\":\"#E5ECF6\",\"angularaxis\":{\"gridcolor\":\"white\",\"linecolor\":\"white\",\"ticks\":\"\"},\"radialaxis\":{\"gridcolor\":\"white\",\"linecolor\":\"white\",\"ticks\":\"\"}},\"ternary\":{\"bgcolor\":\"#E5ECF6\",\"aaxis\":{\"gridcolor\":\"white\",\"linecolor\":\"white\",\"ticks\":\"\"},\"baxis\":{\"gridcolor\":\"white\",\"linecolor\":\"white\",\"ticks\":\"\"},\"caxis\":{\"gridcolor\":\"white\",\"linecolor\":\"white\",\"ticks\":\"\"}},\"coloraxis\":{\"colorbar\":{\"outlinewidth\":0,\"ticks\":\"\"}},\"colorscale\":{\"sequential\":[[0.0,\"#0d0887\"],[0.1111111111111111,\"#46039f\"],[0.2222222222222222,\"#7201a8\"],[0.3333333333333333,\"#9c179e\"],[0.4444444444444444,\"#bd3786\"],[0.5555555555555556,\"#d8576b\"],[0.6666666666666666,\"#ed7953\"],[0.7777777777777778,\"#fb9f3a\"],[0.8888888888888888,\"#fdca26\"],[1.0,\"#f0f921\"]],\"sequentialminus\":[[0.0,\"#0d0887\"],[0.1111111111111111,\"#46039f\"],[0.2222222222222222,\"#7201a8\"],[0.3333333333333333,\"#9c179e\"],[0.4444444444444444,\"#bd3786\"],[0.5555555555555556,\"#d8576b\"],[0.6666666666666666,\"#ed7953\"],[0.7777777777777778,\"#fb9f3a\"],[0.8888888888888888,\"#fdca26\"],[1.0,\"#f0f921\"]],\"diverging\":[[0,\"#8e0152\"],[0.1,\"#c51b7d\"],[0.2,\"#de77ae\"],[0.3,\"#f1b6da\"],[0.4,\"#fde0ef\"],[0.5,\"#f7f7f7\"],[0.6,\"#e6f5d0\"],[0.7,\"#b8e186\"],[0.8,\"#7fbc41\"],[0.9,\"#4d9221\"],[1,\"#276419\"]]},\"xaxis\":{\"gridcolor\":\"white\",\"linecolor\":\"white\",\"ticks\":\"\",\"title\":{\"standoff\":15},\"zerolinecolor\":\"white\",\"automargin\":true,\"zerolinewidth\":2},\"yaxis\":{\"gridcolor\":\"white\",\"linecolor\":\"white\",\"ticks\":\"\",\"title\":{\"standoff\":15},\"zerolinecolor\":\"white\",\"automargin\":true,\"zerolinewidth\":2},\"scene\":{\"xaxis\":{\"backgroundcolor\":\"#E5ECF6\",\"gridcolor\":\"white\",\"linecolor\":\"white\",\"showbackground\":true,\"ticks\":\"\",\"zerolinecolor\":\"white\",\"gridwidth\":2},\"yaxis\":{\"backgroundcolor\":\"#E5ECF6\",\"gridcolor\":\"white\",\"linecolor\":\"white\",\"showbackground\":true,\"ticks\":\"\",\"zerolinecolor\":\"white\",\"gridwidth\":2},\"zaxis\":{\"backgroundcolor\":\"#E5ECF6\",\"gridcolor\":\"white\",\"linecolor\":\"white\",\"showbackground\":true,\"ticks\":\"\",\"zerolinecolor\":\"white\",\"gridwidth\":2}},\"shapedefaults\":{\"line\":{\"color\":\"#2a3f5f\"}},\"annotationdefaults\":{\"arrowcolor\":\"#2a3f5f\",\"arrowhead\":0,\"arrowwidth\":1},\"geo\":{\"bgcolor\":\"white\",\"landcolor\":\"#E5ECF6\",\"subunitcolor\":\"white\",\"showland\":true,\"showlakes\":true,\"lakecolor\":\"white\"},\"title\":{\"x\":0.05},\"mapbox\":{\"style\":\"light\"}}},\"xaxis\":{\"anchor\":\"y\",\"domain\":[0.0,1.0],\"title\":{\"text\":\"Locations\"}},\"yaxis\":{\"anchor\":\"x\",\"domain\":[0.0,1.0],\"title\":{\"text\":\"Total of Transactions\"}},\"legend\":{\"title\":{\"text\":\"TransactionType\"},\"tracegroupgap\":0},\"margin\":{\"t\":60},\"barmode\":\"relative\",\"title\":{\"text\":\"Total of Transactions Type per Location\",\"y\":0.95,\"x\":0.5,\"xanchor\":\"center\",\"yanchor\":\"top\"}},                        {\"responsive\": true}                    ).then(function(){\n",
       "                            \n",
       "var gd = document.getElementById('14f917a5-4c0f-45a6-a18e-431a242ce1c2');\n",
       "var x = new MutationObserver(function (mutations, observer) {{\n",
       "        var display = window.getComputedStyle(gd).display;\n",
       "        if (!display || display === 'none') {{\n",
       "            console.log([gd, 'removed!']);\n",
       "            Plotly.purge(gd);\n",
       "            observer.disconnect();\n",
       "        }}\n",
       "}});\n",
       "\n",
       "// Listen for the removal of the full notebook cells\n",
       "var notebookContainer = gd.closest('#notebook-container');\n",
       "if (notebookContainer) {{\n",
       "    x.observe(notebookContainer, {childList: true});\n",
       "}}\n",
       "\n",
       "// Listen for the clearing of the current output cell\n",
       "var outputEl = gd.closest('.output');\n",
       "if (outputEl) {{\n",
       "    x.observe(outputEl, {childList: true});\n",
       "}}\n",
       "\n",
       "                        })                };                });            </script>        </div>"
      ]
     },
     "metadata": {},
     "output_type": "display_data"
    }
   ],
   "source": [
    "# Total of Refund and Purchase\n",
    "transaction_counts = df.groupby(['Location', 'TransactionType']).size().reset_index(name='Count')\n",
    "\n",
    "transaction_counts\n",
    "fig = px.histogram(transaction_counts, x=\"Location\", y=\"Count\", color=\"TransactionType\")\n",
    "fig.update_layout(\n",
    "      title={\n",
    "        'text': \"Total of Transactions Type per Location\",\n",
    "        'y':0.95,\n",
    "        'x':0.5,\n",
    "        'xanchor': 'center',\n",
    "        'yanchor': 'top'},\n",
    "    xaxis_title=\"Locations\",\n",
    "    yaxis_title=\"Total of Transactions\"\n",
    "\n",
    ")\n",
    "\n",
    "fig.show()"
   ]
  },
  {
   "cell_type": "code",
   "execution_count": null,
   "metadata": {},
   "outputs": [
    {
     "data": {
      "text/html": [
       "<div>\n",
       "<style scoped>\n",
       "    .dataframe tbody tr th:only-of-type {\n",
       "        vertical-align: middle;\n",
       "    }\n",
       "\n",
       "    .dataframe tbody tr th {\n",
       "        vertical-align: top;\n",
       "    }\n",
       "\n",
       "    .dataframe thead th {\n",
       "        text-align: right;\n",
       "    }\n",
       "</style>\n",
       "<table border=\"1\" class=\"dataframe\">\n",
       "  <thead>\n",
       "    <tr style=\"text-align: right;\">\n",
       "      <th></th>\n",
       "      <th>TransactionDate</th>\n",
       "      <th>Amount</th>\n",
       "      <th>MerchantID</th>\n",
       "      <th>TransactionType</th>\n",
       "      <th>Location</th>\n",
       "      <th>IsFraud</th>\n",
       "      <th>Year</th>\n",
       "      <th>Month</th>\n",
       "      <th>Day</th>\n",
       "      <th>Hour</th>\n",
       "    </tr>\n",
       "    <tr>\n",
       "      <th>TransactionID</th>\n",
       "      <th></th>\n",
       "      <th></th>\n",
       "      <th></th>\n",
       "      <th></th>\n",
       "      <th></th>\n",
       "      <th></th>\n",
       "      <th></th>\n",
       "      <th></th>\n",
       "      <th></th>\n",
       "      <th></th>\n",
       "    </tr>\n",
       "  </thead>\n",
       "  <tbody>\n",
       "    <tr>\n",
       "      <th>1</th>\n",
       "      <td>2024-04-03 14:15:35.462794</td>\n",
       "      <td>4189.27</td>\n",
       "      <td>688</td>\n",
       "      <td>refund</td>\n",
       "      <td>San Antonio</td>\n",
       "      <td>0</td>\n",
       "      <td>2024</td>\n",
       "      <td>4</td>\n",
       "      <td>3</td>\n",
       "      <td>14</td>\n",
       "    </tr>\n",
       "    <tr>\n",
       "      <th>2</th>\n",
       "      <td>2024-03-19 13:20:35.462824</td>\n",
       "      <td>2659.71</td>\n",
       "      <td>109</td>\n",
       "      <td>refund</td>\n",
       "      <td>Dallas</td>\n",
       "      <td>0</td>\n",
       "      <td>2024</td>\n",
       "      <td>3</td>\n",
       "      <td>19</td>\n",
       "      <td>13</td>\n",
       "    </tr>\n",
       "    <tr>\n",
       "      <th>3</th>\n",
       "      <td>2024-01-08 10:08:35.462834</td>\n",
       "      <td>784.00</td>\n",
       "      <td>394</td>\n",
       "      <td>purchase</td>\n",
       "      <td>New York</td>\n",
       "      <td>0</td>\n",
       "      <td>2024</td>\n",
       "      <td>1</td>\n",
       "      <td>8</td>\n",
       "      <td>10</td>\n",
       "    </tr>\n",
       "    <tr>\n",
       "      <th>4</th>\n",
       "      <td>2024-04-13 23:50:35.462850</td>\n",
       "      <td>3514.40</td>\n",
       "      <td>944</td>\n",
       "      <td>purchase</td>\n",
       "      <td>Philadelphia</td>\n",
       "      <td>0</td>\n",
       "      <td>2024</td>\n",
       "      <td>4</td>\n",
       "      <td>13</td>\n",
       "      <td>23</td>\n",
       "    </tr>\n",
       "    <tr>\n",
       "      <th>5</th>\n",
       "      <td>2024-07-12 18:51:35.462858</td>\n",
       "      <td>369.07</td>\n",
       "      <td>475</td>\n",
       "      <td>purchase</td>\n",
       "      <td>Phoenix</td>\n",
       "      <td>0</td>\n",
       "      <td>2024</td>\n",
       "      <td>7</td>\n",
       "      <td>12</td>\n",
       "      <td>18</td>\n",
       "    </tr>\n",
       "    <tr>\n",
       "      <th>...</th>\n",
       "      <td>...</td>\n",
       "      <td>...</td>\n",
       "      <td>...</td>\n",
       "      <td>...</td>\n",
       "      <td>...</td>\n",
       "      <td>...</td>\n",
       "      <td>...</td>\n",
       "      <td>...</td>\n",
       "      <td>...</td>\n",
       "      <td>...</td>\n",
       "    </tr>\n",
       "    <tr>\n",
       "      <th>99996</th>\n",
       "      <td>2024-06-07 00:57:36.027591</td>\n",
       "      <td>1057.29</td>\n",
       "      <td>289</td>\n",
       "      <td>refund</td>\n",
       "      <td>San Antonio</td>\n",
       "      <td>0</td>\n",
       "      <td>2024</td>\n",
       "      <td>6</td>\n",
       "      <td>7</td>\n",
       "      <td>0</td>\n",
       "    </tr>\n",
       "    <tr>\n",
       "      <th>99997</th>\n",
       "      <td>2023-10-22 23:12:36.027594</td>\n",
       "      <td>297.25</td>\n",
       "      <td>745</td>\n",
       "      <td>refund</td>\n",
       "      <td>San Antonio</td>\n",
       "      <td>0</td>\n",
       "      <td>2023</td>\n",
       "      <td>10</td>\n",
       "      <td>22</td>\n",
       "      <td>23</td>\n",
       "    </tr>\n",
       "    <tr>\n",
       "      <th>99998</th>\n",
       "      <td>2024-05-31 19:27:36.027597</td>\n",
       "      <td>3448.56</td>\n",
       "      <td>690</td>\n",
       "      <td>purchase</td>\n",
       "      <td>San Antonio</td>\n",
       "      <td>0</td>\n",
       "      <td>2024</td>\n",
       "      <td>5</td>\n",
       "      <td>31</td>\n",
       "      <td>19</td>\n",
       "    </tr>\n",
       "    <tr>\n",
       "      <th>99999</th>\n",
       "      <td>2024-10-18 09:43:36.027601</td>\n",
       "      <td>3750.79</td>\n",
       "      <td>644</td>\n",
       "      <td>purchase</td>\n",
       "      <td>Philadelphia</td>\n",
       "      <td>0</td>\n",
       "      <td>2024</td>\n",
       "      <td>10</td>\n",
       "      <td>18</td>\n",
       "      <td>9</td>\n",
       "    </tr>\n",
       "    <tr>\n",
       "      <th>100000</th>\n",
       "      <td>2024-03-05 19:41:36.027606</td>\n",
       "      <td>1596.79</td>\n",
       "      <td>675</td>\n",
       "      <td>refund</td>\n",
       "      <td>Houston</td>\n",
       "      <td>0</td>\n",
       "      <td>2024</td>\n",
       "      <td>3</td>\n",
       "      <td>5</td>\n",
       "      <td>19</td>\n",
       "    </tr>\n",
       "  </tbody>\n",
       "</table>\n",
       "<p>100000 rows × 10 columns</p>\n",
       "</div>"
      ],
      "text/plain": [
       "                         TransactionDate   Amount  MerchantID TransactionType  \\\n",
       "TransactionID                                                                   \n",
       "1             2024-04-03 14:15:35.462794  4189.27         688          refund   \n",
       "2             2024-03-19 13:20:35.462824  2659.71         109          refund   \n",
       "3             2024-01-08 10:08:35.462834   784.00         394        purchase   \n",
       "4             2024-04-13 23:50:35.462850  3514.40         944        purchase   \n",
       "5             2024-07-12 18:51:35.462858   369.07         475        purchase   \n",
       "...                                  ...      ...         ...             ...   \n",
       "99996         2024-06-07 00:57:36.027591  1057.29         289          refund   \n",
       "99997         2023-10-22 23:12:36.027594   297.25         745          refund   \n",
       "99998         2024-05-31 19:27:36.027597  3448.56         690        purchase   \n",
       "99999         2024-10-18 09:43:36.027601  3750.79         644        purchase   \n",
       "100000        2024-03-05 19:41:36.027606  1596.79         675          refund   \n",
       "\n",
       "                   Location  IsFraud  Year  Month  Day  Hour  \n",
       "TransactionID                                                 \n",
       "1               San Antonio        0  2024      4    3    14  \n",
       "2                    Dallas        0  2024      3   19    13  \n",
       "3                  New York        0  2024      1    8    10  \n",
       "4              Philadelphia        0  2024      4   13    23  \n",
       "5                   Phoenix        0  2024      7   12    18  \n",
       "...                     ...      ...   ...    ...  ...   ...  \n",
       "99996           San Antonio        0  2024      6    7     0  \n",
       "99997           San Antonio        0  2023     10   22    23  \n",
       "99998           San Antonio        0  2024      5   31    19  \n",
       "99999          Philadelphia        0  2024     10   18     9  \n",
       "100000              Houston        0  2024      3    5    19  \n",
       "\n",
       "[100000 rows x 10 columns]"
      ]
     },
     "execution_count": 116,
     "metadata": {},
     "output_type": "execute_result"
    }
   ],
   "source": [
    "# Convert 'TransactionDate' to datetime and extract date-related features\n",
    "\n",
    "df['TransactionDate'] = pd.to_datetime(df['TransactionDate'])\n",
    "df['Year'] = df['TransactionDate'].dt.year\n",
    "df['Month'] = df['TransactionDate'].dt.month\n",
    "df['Day'] = df['TransactionDate'].dt.day\n",
    "df['Hour'] = df['TransactionDate'].dt.hour\n",
    "\n",
    "df"
   ]
  },
  {
   "cell_type": "code",
   "execution_count": null,
   "metadata": {},
   "outputs": [
    {
     "name": "stdout",
     "output_type": "stream",
     "text": [
      "<class 'pandas.core.frame.DataFrame'>\n",
      "Index: 100000 entries, 1 to 100000\n",
      "Data columns (total 10 columns):\n",
      " #   Column           Non-Null Count   Dtype         \n",
      "---  ------           --------------   -----         \n",
      " 0   TransactionDate  100000 non-null  datetime64[ns]\n",
      " 1   Amount           100000 non-null  float64       \n",
      " 2   MerchantID       100000 non-null  int64         \n",
      " 3   TransactionType  100000 non-null  object        \n",
      " 4   Location         100000 non-null  object        \n",
      " 5   IsFraud          100000 non-null  int64         \n",
      " 6   Year             100000 non-null  int32         \n",
      " 7   Month            100000 non-null  int32         \n",
      " 8   Day              100000 non-null  int32         \n",
      " 9   Hour             100000 non-null  int32         \n",
      "dtypes: datetime64[ns](1), float64(1), int32(4), int64(2), object(2)\n",
      "memory usage: 6.9+ MB\n"
     ]
    }
   ],
   "source": [
    "df.info()"
   ]
  },
  {
   "cell_type": "code",
   "execution_count": null,
   "metadata": {},
   "outputs": [
    {
     "data": {
      "text/html": [
       "<div>\n",
       "<style scoped>\n",
       "    .dataframe tbody tr th:only-of-type {\n",
       "        vertical-align: middle;\n",
       "    }\n",
       "\n",
       "    .dataframe tbody tr th {\n",
       "        vertical-align: top;\n",
       "    }\n",
       "\n",
       "    .dataframe thead th {\n",
       "        text-align: right;\n",
       "    }\n",
       "</style>\n",
       "<table border=\"1\" class=\"dataframe\">\n",
       "  <thead>\n",
       "    <tr style=\"text-align: right;\">\n",
       "      <th></th>\n",
       "      <th>TransactionDate</th>\n",
       "      <th>Amount</th>\n",
       "      <th>MerchantID</th>\n",
       "      <th>TransactionType</th>\n",
       "      <th>Location</th>\n",
       "      <th>IsFraud</th>\n",
       "      <th>Year</th>\n",
       "      <th>Month</th>\n",
       "      <th>Day</th>\n",
       "      <th>Hour</th>\n",
       "    </tr>\n",
       "    <tr>\n",
       "      <th>TransactionID</th>\n",
       "      <th></th>\n",
       "      <th></th>\n",
       "      <th></th>\n",
       "      <th></th>\n",
       "      <th></th>\n",
       "      <th></th>\n",
       "      <th></th>\n",
       "      <th></th>\n",
       "      <th></th>\n",
       "      <th></th>\n",
       "    </tr>\n",
       "  </thead>\n",
       "  <tbody>\n",
       "    <tr>\n",
       "      <th>1</th>\n",
       "      <td>2024-04-03 14:15:35.462794</td>\n",
       "      <td>4189.27</td>\n",
       "      <td>688</td>\n",
       "      <td>refund</td>\n",
       "      <td>San Antonio</td>\n",
       "      <td>0</td>\n",
       "      <td>2024</td>\n",
       "      <td>4</td>\n",
       "      <td>3</td>\n",
       "      <td>14</td>\n",
       "    </tr>\n",
       "    <tr>\n",
       "      <th>2</th>\n",
       "      <td>2024-03-19 13:20:35.462824</td>\n",
       "      <td>2659.71</td>\n",
       "      <td>109</td>\n",
       "      <td>refund</td>\n",
       "      <td>Dallas</td>\n",
       "      <td>0</td>\n",
       "      <td>2024</td>\n",
       "      <td>3</td>\n",
       "      <td>19</td>\n",
       "      <td>13</td>\n",
       "    </tr>\n",
       "    <tr>\n",
       "      <th>3</th>\n",
       "      <td>2024-01-08 10:08:35.462834</td>\n",
       "      <td>784.00</td>\n",
       "      <td>394</td>\n",
       "      <td>purchase</td>\n",
       "      <td>New York</td>\n",
       "      <td>0</td>\n",
       "      <td>2024</td>\n",
       "      <td>1</td>\n",
       "      <td>8</td>\n",
       "      <td>10</td>\n",
       "    </tr>\n",
       "    <tr>\n",
       "      <th>4</th>\n",
       "      <td>2024-04-13 23:50:35.462850</td>\n",
       "      <td>3514.40</td>\n",
       "      <td>944</td>\n",
       "      <td>purchase</td>\n",
       "      <td>Philadelphia</td>\n",
       "      <td>0</td>\n",
       "      <td>2024</td>\n",
       "      <td>4</td>\n",
       "      <td>13</td>\n",
       "      <td>23</td>\n",
       "    </tr>\n",
       "    <tr>\n",
       "      <th>5</th>\n",
       "      <td>2024-07-12 18:51:35.462858</td>\n",
       "      <td>369.07</td>\n",
       "      <td>475</td>\n",
       "      <td>purchase</td>\n",
       "      <td>Phoenix</td>\n",
       "      <td>0</td>\n",
       "      <td>2024</td>\n",
       "      <td>7</td>\n",
       "      <td>12</td>\n",
       "      <td>18</td>\n",
       "    </tr>\n",
       "    <tr>\n",
       "      <th>...</th>\n",
       "      <td>...</td>\n",
       "      <td>...</td>\n",
       "      <td>...</td>\n",
       "      <td>...</td>\n",
       "      <td>...</td>\n",
       "      <td>...</td>\n",
       "      <td>...</td>\n",
       "      <td>...</td>\n",
       "      <td>...</td>\n",
       "      <td>...</td>\n",
       "    </tr>\n",
       "    <tr>\n",
       "      <th>99996</th>\n",
       "      <td>2024-06-07 00:57:36.027591</td>\n",
       "      <td>1057.29</td>\n",
       "      <td>289</td>\n",
       "      <td>refund</td>\n",
       "      <td>San Antonio</td>\n",
       "      <td>0</td>\n",
       "      <td>2024</td>\n",
       "      <td>6</td>\n",
       "      <td>7</td>\n",
       "      <td>0</td>\n",
       "    </tr>\n",
       "    <tr>\n",
       "      <th>99997</th>\n",
       "      <td>2023-10-22 23:12:36.027594</td>\n",
       "      <td>297.25</td>\n",
       "      <td>745</td>\n",
       "      <td>refund</td>\n",
       "      <td>San Antonio</td>\n",
       "      <td>0</td>\n",
       "      <td>2023</td>\n",
       "      <td>10</td>\n",
       "      <td>22</td>\n",
       "      <td>23</td>\n",
       "    </tr>\n",
       "    <tr>\n",
       "      <th>99998</th>\n",
       "      <td>2024-05-31 19:27:36.027597</td>\n",
       "      <td>3448.56</td>\n",
       "      <td>690</td>\n",
       "      <td>purchase</td>\n",
       "      <td>San Antonio</td>\n",
       "      <td>0</td>\n",
       "      <td>2024</td>\n",
       "      <td>5</td>\n",
       "      <td>31</td>\n",
       "      <td>19</td>\n",
       "    </tr>\n",
       "    <tr>\n",
       "      <th>99999</th>\n",
       "      <td>2024-10-18 09:43:36.027601</td>\n",
       "      <td>3750.79</td>\n",
       "      <td>644</td>\n",
       "      <td>purchase</td>\n",
       "      <td>Philadelphia</td>\n",
       "      <td>0</td>\n",
       "      <td>2024</td>\n",
       "      <td>10</td>\n",
       "      <td>18</td>\n",
       "      <td>9</td>\n",
       "    </tr>\n",
       "    <tr>\n",
       "      <th>100000</th>\n",
       "      <td>2024-03-05 19:41:36.027606</td>\n",
       "      <td>1596.79</td>\n",
       "      <td>675</td>\n",
       "      <td>refund</td>\n",
       "      <td>Houston</td>\n",
       "      <td>0</td>\n",
       "      <td>2024</td>\n",
       "      <td>3</td>\n",
       "      <td>5</td>\n",
       "      <td>19</td>\n",
       "    </tr>\n",
       "  </tbody>\n",
       "</table>\n",
       "<p>100000 rows × 10 columns</p>\n",
       "</div>"
      ],
      "text/plain": [
       "                         TransactionDate   Amount  MerchantID TransactionType  \\\n",
       "TransactionID                                                                   \n",
       "1             2024-04-03 14:15:35.462794  4189.27         688          refund   \n",
       "2             2024-03-19 13:20:35.462824  2659.71         109          refund   \n",
       "3             2024-01-08 10:08:35.462834   784.00         394        purchase   \n",
       "4             2024-04-13 23:50:35.462850  3514.40         944        purchase   \n",
       "5             2024-07-12 18:51:35.462858   369.07         475        purchase   \n",
       "...                                  ...      ...         ...             ...   \n",
       "99996         2024-06-07 00:57:36.027591  1057.29         289          refund   \n",
       "99997         2023-10-22 23:12:36.027594   297.25         745          refund   \n",
       "99998         2024-05-31 19:27:36.027597  3448.56         690        purchase   \n",
       "99999         2024-10-18 09:43:36.027601  3750.79         644        purchase   \n",
       "100000        2024-03-05 19:41:36.027606  1596.79         675          refund   \n",
       "\n",
       "                   Location  IsFraud  Year  Month  Day  Hour  \n",
       "TransactionID                                                 \n",
       "1               San Antonio        0  2024      4    3    14  \n",
       "2                    Dallas        0  2024      3   19    13  \n",
       "3                  New York        0  2024      1    8    10  \n",
       "4              Philadelphia        0  2024      4   13    23  \n",
       "5                   Phoenix        0  2024      7   12    18  \n",
       "...                     ...      ...   ...    ...  ...   ...  \n",
       "99996           San Antonio        0  2024      6    7     0  \n",
       "99997           San Antonio        0  2023     10   22    23  \n",
       "99998           San Antonio        0  2024      5   31    19  \n",
       "99999          Philadelphia        0  2024     10   18     9  \n",
       "100000              Houston        0  2024      3    5    19  \n",
       "\n",
       "[100000 rows x 10 columns]"
      ]
     },
     "execution_count": 118,
     "metadata": {},
     "output_type": "execute_result"
    }
   ],
   "source": [
    "df"
   ]
  },
  {
   "cell_type": "code",
   "execution_count": 24,
   "metadata": {},
   "outputs": [
    {
     "data": {
      "text/html": [
       "<div>\n",
       "<style scoped>\n",
       "    .dataframe tbody tr th:only-of-type {\n",
       "        vertical-align: middle;\n",
       "    }\n",
       "\n",
       "    .dataframe tbody tr th {\n",
       "        vertical-align: top;\n",
       "    }\n",
       "\n",
       "    .dataframe thead th {\n",
       "        text-align: right;\n",
       "    }\n",
       "</style>\n",
       "<table border=\"1\" class=\"dataframe\">\n",
       "  <thead>\n",
       "    <tr style=\"text-align: right;\">\n",
       "      <th></th>\n",
       "      <th>TransactionDate</th>\n",
       "      <th>Amount</th>\n",
       "      <th>MerchantID</th>\n",
       "      <th>IsFraud</th>\n",
       "      <th>TransactionType_purchase</th>\n",
       "      <th>TransactionType_refund</th>\n",
       "      <th>Location_Chicago</th>\n",
       "      <th>Location_Dallas</th>\n",
       "      <th>Location_Houston</th>\n",
       "      <th>Location_Los Angeles</th>\n",
       "      <th>Location_New York</th>\n",
       "      <th>Location_Philadelphia</th>\n",
       "      <th>Location_Phoenix</th>\n",
       "      <th>Location_San Antonio</th>\n",
       "      <th>Location_San Diego</th>\n",
       "      <th>Location_San Jose</th>\n",
       "    </tr>\n",
       "    <tr>\n",
       "      <th>TransactionID</th>\n",
       "      <th></th>\n",
       "      <th></th>\n",
       "      <th></th>\n",
       "      <th></th>\n",
       "      <th></th>\n",
       "      <th></th>\n",
       "      <th></th>\n",
       "      <th></th>\n",
       "      <th></th>\n",
       "      <th></th>\n",
       "      <th></th>\n",
       "      <th></th>\n",
       "      <th></th>\n",
       "      <th></th>\n",
       "      <th></th>\n",
       "      <th></th>\n",
       "    </tr>\n",
       "  </thead>\n",
       "  <tbody>\n",
       "    <tr>\n",
       "      <th>1</th>\n",
       "      <td>2024-04-03 14:15:35.462794</td>\n",
       "      <td>4189.27</td>\n",
       "      <td>688</td>\n",
       "      <td>0</td>\n",
       "      <td>0</td>\n",
       "      <td>1</td>\n",
       "      <td>0</td>\n",
       "      <td>0</td>\n",
       "      <td>0</td>\n",
       "      <td>0</td>\n",
       "      <td>0</td>\n",
       "      <td>0</td>\n",
       "      <td>0</td>\n",
       "      <td>1</td>\n",
       "      <td>0</td>\n",
       "      <td>0</td>\n",
       "    </tr>\n",
       "    <tr>\n",
       "      <th>2</th>\n",
       "      <td>2024-03-19 13:20:35.462824</td>\n",
       "      <td>2659.71</td>\n",
       "      <td>109</td>\n",
       "      <td>0</td>\n",
       "      <td>0</td>\n",
       "      <td>1</td>\n",
       "      <td>0</td>\n",
       "      <td>1</td>\n",
       "      <td>0</td>\n",
       "      <td>0</td>\n",
       "      <td>0</td>\n",
       "      <td>0</td>\n",
       "      <td>0</td>\n",
       "      <td>0</td>\n",
       "      <td>0</td>\n",
       "      <td>0</td>\n",
       "    </tr>\n",
       "    <tr>\n",
       "      <th>3</th>\n",
       "      <td>2024-01-08 10:08:35.462834</td>\n",
       "      <td>784.00</td>\n",
       "      <td>394</td>\n",
       "      <td>0</td>\n",
       "      <td>1</td>\n",
       "      <td>0</td>\n",
       "      <td>0</td>\n",
       "      <td>0</td>\n",
       "      <td>0</td>\n",
       "      <td>0</td>\n",
       "      <td>1</td>\n",
       "      <td>0</td>\n",
       "      <td>0</td>\n",
       "      <td>0</td>\n",
       "      <td>0</td>\n",
       "      <td>0</td>\n",
       "    </tr>\n",
       "    <tr>\n",
       "      <th>4</th>\n",
       "      <td>2024-04-13 23:50:35.462850</td>\n",
       "      <td>3514.40</td>\n",
       "      <td>944</td>\n",
       "      <td>0</td>\n",
       "      <td>1</td>\n",
       "      <td>0</td>\n",
       "      <td>0</td>\n",
       "      <td>0</td>\n",
       "      <td>0</td>\n",
       "      <td>0</td>\n",
       "      <td>0</td>\n",
       "      <td>1</td>\n",
       "      <td>0</td>\n",
       "      <td>0</td>\n",
       "      <td>0</td>\n",
       "      <td>0</td>\n",
       "    </tr>\n",
       "    <tr>\n",
       "      <th>5</th>\n",
       "      <td>2024-07-12 18:51:35.462858</td>\n",
       "      <td>369.07</td>\n",
       "      <td>475</td>\n",
       "      <td>0</td>\n",
       "      <td>1</td>\n",
       "      <td>0</td>\n",
       "      <td>0</td>\n",
       "      <td>0</td>\n",
       "      <td>0</td>\n",
       "      <td>0</td>\n",
       "      <td>0</td>\n",
       "      <td>0</td>\n",
       "      <td>1</td>\n",
       "      <td>0</td>\n",
       "      <td>0</td>\n",
       "      <td>0</td>\n",
       "    </tr>\n",
       "    <tr>\n",
       "      <th>...</th>\n",
       "      <td>...</td>\n",
       "      <td>...</td>\n",
       "      <td>...</td>\n",
       "      <td>...</td>\n",
       "      <td>...</td>\n",
       "      <td>...</td>\n",
       "      <td>...</td>\n",
       "      <td>...</td>\n",
       "      <td>...</td>\n",
       "      <td>...</td>\n",
       "      <td>...</td>\n",
       "      <td>...</td>\n",
       "      <td>...</td>\n",
       "      <td>...</td>\n",
       "      <td>...</td>\n",
       "      <td>...</td>\n",
       "    </tr>\n",
       "    <tr>\n",
       "      <th>99996</th>\n",
       "      <td>2024-06-07 00:57:36.027591</td>\n",
       "      <td>1057.29</td>\n",
       "      <td>289</td>\n",
       "      <td>0</td>\n",
       "      <td>0</td>\n",
       "      <td>1</td>\n",
       "      <td>0</td>\n",
       "      <td>0</td>\n",
       "      <td>0</td>\n",
       "      <td>0</td>\n",
       "      <td>0</td>\n",
       "      <td>0</td>\n",
       "      <td>0</td>\n",
       "      <td>1</td>\n",
       "      <td>0</td>\n",
       "      <td>0</td>\n",
       "    </tr>\n",
       "    <tr>\n",
       "      <th>99997</th>\n",
       "      <td>2023-10-22 23:12:36.027594</td>\n",
       "      <td>297.25</td>\n",
       "      <td>745</td>\n",
       "      <td>0</td>\n",
       "      <td>0</td>\n",
       "      <td>1</td>\n",
       "      <td>0</td>\n",
       "      <td>0</td>\n",
       "      <td>0</td>\n",
       "      <td>0</td>\n",
       "      <td>0</td>\n",
       "      <td>0</td>\n",
       "      <td>0</td>\n",
       "      <td>1</td>\n",
       "      <td>0</td>\n",
       "      <td>0</td>\n",
       "    </tr>\n",
       "    <tr>\n",
       "      <th>99998</th>\n",
       "      <td>2024-05-31 19:27:36.027597</td>\n",
       "      <td>3448.56</td>\n",
       "      <td>690</td>\n",
       "      <td>0</td>\n",
       "      <td>1</td>\n",
       "      <td>0</td>\n",
       "      <td>0</td>\n",
       "      <td>0</td>\n",
       "      <td>0</td>\n",
       "      <td>0</td>\n",
       "      <td>0</td>\n",
       "      <td>0</td>\n",
       "      <td>0</td>\n",
       "      <td>1</td>\n",
       "      <td>0</td>\n",
       "      <td>0</td>\n",
       "    </tr>\n",
       "    <tr>\n",
       "      <th>99999</th>\n",
       "      <td>2024-10-18 09:43:36.027601</td>\n",
       "      <td>3750.79</td>\n",
       "      <td>644</td>\n",
       "      <td>0</td>\n",
       "      <td>1</td>\n",
       "      <td>0</td>\n",
       "      <td>0</td>\n",
       "      <td>0</td>\n",
       "      <td>0</td>\n",
       "      <td>0</td>\n",
       "      <td>0</td>\n",
       "      <td>1</td>\n",
       "      <td>0</td>\n",
       "      <td>0</td>\n",
       "      <td>0</td>\n",
       "      <td>0</td>\n",
       "    </tr>\n",
       "    <tr>\n",
       "      <th>100000</th>\n",
       "      <td>2024-03-05 19:41:36.027606</td>\n",
       "      <td>1596.79</td>\n",
       "      <td>675</td>\n",
       "      <td>0</td>\n",
       "      <td>0</td>\n",
       "      <td>1</td>\n",
       "      <td>0</td>\n",
       "      <td>0</td>\n",
       "      <td>1</td>\n",
       "      <td>0</td>\n",
       "      <td>0</td>\n",
       "      <td>0</td>\n",
       "      <td>0</td>\n",
       "      <td>0</td>\n",
       "      <td>0</td>\n",
       "      <td>0</td>\n",
       "    </tr>\n",
       "  </tbody>\n",
       "</table>\n",
       "<p>100000 rows × 16 columns</p>\n",
       "</div>"
      ],
      "text/plain": [
       "                          TransactionDate   Amount  MerchantID  IsFraud  \\\n",
       "TransactionID                                                             \n",
       "1              2024-04-03 14:15:35.462794  4189.27         688        0   \n",
       "2              2024-03-19 13:20:35.462824  2659.71         109        0   \n",
       "3              2024-01-08 10:08:35.462834   784.00         394        0   \n",
       "4              2024-04-13 23:50:35.462850  3514.40         944        0   \n",
       "5              2024-07-12 18:51:35.462858   369.07         475        0   \n",
       "...                                   ...      ...         ...      ...   \n",
       "99996          2024-06-07 00:57:36.027591  1057.29         289        0   \n",
       "99997          2023-10-22 23:12:36.027594   297.25         745        0   \n",
       "99998          2024-05-31 19:27:36.027597  3448.56         690        0   \n",
       "99999          2024-10-18 09:43:36.027601  3750.79         644        0   \n",
       "100000         2024-03-05 19:41:36.027606  1596.79         675        0   \n",
       "\n",
       "               TransactionType_purchase  TransactionType_refund  \\\n",
       "TransactionID                                                     \n",
       "1                                     0                       1   \n",
       "2                                     0                       1   \n",
       "3                                     1                       0   \n",
       "4                                     1                       0   \n",
       "5                                     1                       0   \n",
       "...                                 ...                     ...   \n",
       "99996                                 0                       1   \n",
       "99997                                 0                       1   \n",
       "99998                                 1                       0   \n",
       "99999                                 1                       0   \n",
       "100000                                0                       1   \n",
       "\n",
       "               Location_Chicago  Location_Dallas  Location_Houston  \\\n",
       "TransactionID                                                        \n",
       "1                             0                0                 0   \n",
       "2                             0                1                 0   \n",
       "3                             0                0                 0   \n",
       "4                             0                0                 0   \n",
       "5                             0                0                 0   \n",
       "...                         ...              ...               ...   \n",
       "99996                         0                0                 0   \n",
       "99997                         0                0                 0   \n",
       "99998                         0                0                 0   \n",
       "99999                         0                0                 0   \n",
       "100000                        0                0                 1   \n",
       "\n",
       "               Location_Los Angeles  Location_New York  Location_Philadelphia  \\\n",
       "TransactionID                                                                   \n",
       "1                                 0                  0                      0   \n",
       "2                                 0                  0                      0   \n",
       "3                                 0                  1                      0   \n",
       "4                                 0                  0                      1   \n",
       "5                                 0                  0                      0   \n",
       "...                             ...                ...                    ...   \n",
       "99996                             0                  0                      0   \n",
       "99997                             0                  0                      0   \n",
       "99998                             0                  0                      0   \n",
       "99999                             0                  0                      1   \n",
       "100000                            0                  0                      0   \n",
       "\n",
       "               Location_Phoenix  Location_San Antonio  Location_San Diego  \\\n",
       "TransactionID                                                               \n",
       "1                             0                     1                   0   \n",
       "2                             0                     0                   0   \n",
       "3                             0                     0                   0   \n",
       "4                             0                     0                   0   \n",
       "5                             1                     0                   0   \n",
       "...                         ...                   ...                 ...   \n",
       "99996                         0                     1                   0   \n",
       "99997                         0                     1                   0   \n",
       "99998                         0                     1                   0   \n",
       "99999                         0                     0                   0   \n",
       "100000                        0                     0                   0   \n",
       "\n",
       "               Location_San Jose  \n",
       "TransactionID                     \n",
       "1                              0  \n",
       "2                              0  \n",
       "3                              0  \n",
       "4                              0  \n",
       "5                              0  \n",
       "...                          ...  \n",
       "99996                          0  \n",
       "99997                          0  \n",
       "99998                          0  \n",
       "99999                          0  \n",
       "100000                         0  \n",
       "\n",
       "[100000 rows x 16 columns]"
      ]
     },
     "execution_count": 24,
     "metadata": {},
     "output_type": "execute_result"
    }
   ],
   "source": [
    "##Encoding categorical features\n",
    "df_encoded = pd.get_dummies(df, columns=['TransactionType', 'Location'], dtype=int)\n",
    "df_encoded"
   ]
  },
  {
   "cell_type": "code",
   "execution_count": 25,
   "metadata": {},
   "outputs": [
    {
     "name": "stdout",
     "output_type": "stream",
     "text": [
      "(100000, 14)\n",
      "(100000,)\n"
     ]
    }
   ],
   "source": [
    "y = df_encoded['IsFraud']\n",
    "X = df_encoded.drop(columns = ['IsFraud','TransactionDate'])\n",
    "\n",
    "print(X.shape)\n",
    "print(y.shape)"
   ]
  },
  {
   "cell_type": "code",
   "execution_count": 26,
   "metadata": {},
   "outputs": [],
   "source": [
    "##Split the data into train and test data for model trainign and evaluration\n",
    "X_train, X_test, y_train, y_test = train_test_split(X, y, test_size = 0.2, random_state = 1)"
   ]
  },
  {
   "cell_type": "code",
   "execution_count": 27,
   "metadata": {},
   "outputs": [],
   "source": [
    "##Scaling the data into a standard distribution for neural network training\n",
    "from sklearn.preprocessing import StandardScaler\n",
    "scaler = StandardScaler()\n",
    "\n",
    "X_train_scaled = scaler.fit_transform(X_train)\n",
    "X_test_scaled = scaler.transform(X_test)"
   ]
  },
  {
   "cell_type": "code",
   "execution_count": 32,
   "metadata": {},
   "outputs": [],
   "source": [
    "\n",
    "## Balancing the dataset\n",
    "from imblearn.over_sampling import SMOTE\n",
    "\n",
    "\n",
    "# oversampling the train dataset using SMOTE\n",
    "smt = SMOTE()\n",
    "X_train_sm, y_train_sm = smt.fit_resample(X_train_scaled, y_train)"
   ]
  },
  {
   "cell_type": "markdown",
   "metadata": {},
   "source": [
    "## Building Neural Network "
   ]
  },
  {
   "cell_type": "markdown",
   "metadata": {},
   "source": [
    "##### The code above was based in Lab 06 of Programming Programming and Mathematics for Artificial Intelligence from Dr. Atif Riaz"
   ]
  },
  {
   "cell_type": "code",
   "execution_count": 29,
   "metadata": {},
   "outputs": [],
   "source": [
    "##Neural Network \n",
    "\n",
    "def truncated_normal(mean=0, sd=1, low=0, upp=10):\n",
    "    return truncnorm(\n",
    "        (low - mean) / sd, (upp - mean) / sd, loc=mean, scale=sd)\n",
    "\n",
    "class NeuralNetwork:\n",
    "    def __init__(self,\n",
    "                 no_of_in_nodes,\n",
    "                 no_of_out_nodes,\n",
    "                 no_of_hidden_nodes1,\n",
    "                 no_of_hidden_nodes2,\n",
    "                 learning_rate,\n",
    "                 optimizer=\"mini_batch_sgd\",  # Choose optimizer between mini batch and sgd\n",
    "                 l1_lambda=0.0,               # L1 regularization strength which can be adjusted according to the accuracy\n",
    "                 l2_lambda=0.0,               # L2 regularization strength also can ve adjusted according to the final accuracy\n",
    "                 hidden_activation=\"relu\",\n",
    "                 output_activation=\"sigmoid\",\n",
    "                 dropout_rate=0.0  # Dropout rate and preferred drop out can be set as 0.5\n",
    "                ):\n",
    "        self.no_of_in_nodes = no_of_in_nodes\n",
    "        self.no_of_out_nodes = no_of_out_nodes\n",
    "        self.no_of_hidden_nodes1 = no_of_hidden_nodes1\n",
    "        self.no_of_hidden_nodes2 = no_of_hidden_nodes2\n",
    "        self.learning_rate = learning_rate\n",
    "        self.optimizer = optimizer.lower()  # Convert to lowercase for consistency\n",
    "        self.l1_lambda = l1_lambda\n",
    "        self.l2_lambda = l2_lambda\n",
    "        self.hidden_activation = hidden_activation\n",
    "        self.output_activation = output_activation\n",
    "        self.dropout_rate = dropout_rate\n",
    "        self.create_weight_matrices()\n",
    "\n",
    "    def create_weight_matrices(self):\n",
    "        X = truncated_normal(mean=0, sd=1, low=-0.5, upp=0.5)\n",
    "\n",
    "        # Create wih1 with shape [hidden1 x in]\n",
    "        self.wih1 = X.rvs(self.no_of_hidden_nodes1 * self.no_of_in_nodes).reshape(\n",
    "            (self.no_of_hidden_nodes1, self.no_of_in_nodes)\n",
    "        )\n",
    "\n",
    "        # Create wh1h2 with shape [hidden2 x hidden1]\n",
    "        self.wh1h2 = X.rvs(self.no_of_hidden_nodes2 * self.no_of_hidden_nodes1).reshape(\n",
    "            (self.no_of_hidden_nodes2, self.no_of_hidden_nodes1)\n",
    "        )\n",
    "\n",
    "        # Create who with shape [out from last layer x hidden2]\n",
    "        self.who = X.rvs(self.no_of_out_nodes * self.no_of_hidden_nodes2).reshape(\n",
    "            (self.no_of_out_nodes, self.no_of_hidden_nodes2)\n",
    "        )\n",
    "\n",
    "    # Activation functions\n",
    "    def sigmoid(self, x):\n",
    "        return 1 / (1 + np.exp(-x))\n",
    "\n",
    "    def sigmoid_derivative(self, x):\n",
    "        sig = self.sigmoid(x)\n",
    "        return sig * (1 - sig)\n",
    "\n",
    "    def relu(self, x):\n",
    "        return np.maximum(0, x)\n",
    "\n",
    "    def relu_derivative(self, x):\n",
    "        return np.where(x > 0, 1, 0)\n",
    "\n",
    "    def softmax(self, x):\n",
    "        exps = np.exp(x - np.max(x))\n",
    "        return exps / np.sum(exps, axis=0, keepdims=True)\n",
    "\n",
    "    def cross_entropy_loss(self, predictions, targets):\n",
    "        return -np.sum(targets * np.log(predictions + 1e-15))\n",
    "\n",
    "    def cross_entropy_derivative(self, predictions, targets):\n",
    "        return predictions - targets\n",
    "\n",
    "    def l1_regularization(self, weights):\n",
    "        return self.l1_lambda * np.sign(weights)\n",
    "\n",
    "    def l2_regularization(self, weights):\n",
    "        return self.l2_lambda * weights\n",
    "\n",
    "    def activate(self, x, function):\n",
    "        if function == \"sigmoid\":\n",
    "            return self.sigmoid(x)\n",
    "        elif function == \"relu\":\n",
    "            return self.relu(x)\n",
    "        elif function == \"softmax\":\n",
    "            return self.softmax(x)\n",
    "        else:\n",
    "            raise ValueError(\"Unknown activation function\")\n",
    "\n",
    "    def activate_derivative(self, x, function):\n",
    "        if function == \"sigmoid\":\n",
    "            return self.sigmoid_derivative(x)\n",
    "        elif function == \"relu\":\n",
    "            return self.relu_derivative(x)\n",
    "        else:\n",
    "            raise ValueError(\"Unknown activation function\")\n",
    "\n",
    "    def apply_dropout(self, activations):\n",
    "        \"\"\"Apply dropout to the activations.\"\"\"\n",
    "        if self.dropout_rate > 0:\n",
    "            dropout_mask = np.random.rand(*activations.shape) > self.dropout_rate\n",
    "            return activations * dropout_mask / (1.0 - self.dropout_rate)  # Scale activations\n",
    "        return activations\n",
    "    def train_single(self, input_vector, target_vector):\n",
    "        input_vector = np.array(input_vector, ndmin=2).T\n",
    "        target_vector = np.array(target_vector, ndmin=2).T\n",
    "\n",
    "        # Forward pass with dropout\n",
    "        hidden_input1 = np.dot(self.wih1, input_vector)\n",
    "        hidden_output1 = self.activate(hidden_input1, self.hidden_activation)\n",
    "        hidden_output1 = self.apply_dropout(hidden_output1)  # Apply dropout\n",
    "\n",
    "        hidden_input2 = np.dot(self.wh1h2, hidden_output1)\n",
    "        hidden_output2 = self.activate(hidden_input2, self.hidden_activation)\n",
    "        hidden_output2 = self.apply_dropout(hidden_output2)  # Apply dropout\n",
    "\n",
    "        final_input = np.dot(self.who, hidden_output2)\n",
    "        final_output = self.activate(final_input, self.output_activation)\n",
    "\n",
    "        # Compute loss\n",
    "        loss = self.cross_entropy_loss(final_output, target_vector)\n",
    "\n",
    "        # Backward pass\n",
    "        output_errors = self.cross_entropy_derivative(final_output, target_vector)\n",
    "        l1_who = self.l1_regularization(self.who)\n",
    "        l2_who = self.l2_regularization(self.who)\n",
    "        self.who -= self.learning_rate * (np.dot(output_errors, hidden_output2.T) + l1_who + l2_who)\n",
    "\n",
    "        hidden_errors2 = np.dot(self.who.T, output_errors)\n",
    "        hidden_grad2 = hidden_errors2 * self.activate_derivative(hidden_input2, self.hidden_activation)\n",
    "        l1_wh1h2 = self.l1_regularization(self.wh1h2)\n",
    "        l2_wh1h2 = self.l2_regularization(self.wh1h2)\n",
    "        self.wh1h2 -= self.learning_rate * (np.dot(hidden_grad2, hidden_output1.T) + l1_wh1h2 + l2_wh1h2)\n",
    "\n",
    "        hidden_errors1 = np.dot(self.wh1h2.T, hidden_grad2)\n",
    "        hidden_grad1 = hidden_errors1 * self.activate_derivative(hidden_input1, self.hidden_activation)\n",
    "        l1_wih1 = self.l1_regularization(self.wih1)\n",
    "        l2_wih1 = self.l2_regularization(self.wih1)\n",
    "        self.wih1 -= self.learning_rate * (np.dot(hidden_grad1, input_vector.T) + l1_wih1 + l2_wih1)\n",
    "\n",
    "        return loss\n",
    "\n",
    "    def train_batch(self, batch_data, batch_labels):\n",
    "        \"\"\"Train the network on a batch of data.\"\"\"\n",
    "        total_loss = 0\n",
    "        for input_vector, target_vector in zip(batch_data, batch_labels):\n",
    "            total_loss += self.train_single(input_vector, target_vector)\n",
    "        return total_loss / len(batch_data)\n",
    "\n",
    "    # SGD\n",
    "    def sgd(self, data, labels):\n",
    "        \"\"\"Stochastic Gradient Descent (SGD).SGD will Updates weights for every data point training .\"\"\"\n",
    "        total_loss = 0\n",
    "        for i in range(len(data)):\n",
    "            loss = self.train_single(data[i], labels[i])\n",
    "            total_loss += loss\n",
    "        return total_loss / len(data)\n",
    "\n",
    "    # Mini-Batch Optimizer\n",
    "    def mini_batch_sgd(self, data, labels, batch_size=32):\n",
    "        \"\"\"Mini-Batch Stochastic Gradient Descent will update the weight after each batch of training.\"\"\"\n",
    "        total_loss = 0\n",
    "        for i in range(0, len(data), batch_size):\n",
    "            batch_data = data[i:i + batch_size]\n",
    "            batch_labels = labels[i:i + batch_size]\n",
    "            loss = self.train_batch(batch_data, batch_labels)\n",
    "            total_loss += loss\n",
    "        return total_loss / (len(data) // batch_size)\n",
    "\n",
    "    def train(self, data, labels, batch_size=32):\n",
    "        \"\"\"Train the network using the selected optimizer.\"\"\"\n",
    "        if self.optimizer == \"sgd\":\n",
    "            return self.sgd(data, labels)\n",
    "        elif self.optimizer == \"mini_batch_sgd\":\n",
    "            return self.mini_batch_sgd(data, labels, batch_size)\n",
    "        else:\n",
    "            raise ValueError(f\"Unknown optimizer: {self.optimizer}\")\n",
    "\n",
    "    def run(self, input_vector):\n",
    "        input_vector = np.array(input_vector, ndmin=2).T\n",
    "        hidden_input1 = np.dot(self.wih1, input_vector)\n",
    "        hidden_output1 = self.activate(hidden_input1, self.hidden_activation)\n",
    "\n",
    "        hidden_input2 = np.dot(self.wh1h2, hidden_output1)\n",
    "        hidden_output2 = self.activate(hidden_input2, self.hidden_activation)\n",
    "\n",
    "        final_input = np.dot(self.who, hidden_output2)\n",
    "        final_output = self.activate(final_input, self.output_activation)\n",
    "\n",
    "        return final_output\n",
    "\n",
    "    def evaluate(self, data, labels):\n",
    "        corrects, wrongs = 0, 0\n",
    "        for i in range(len(data)):\n",
    "           res = self.run(data[i])  # Get the network's output\n",
    "           prediction = 1 if res >= 0.5 else 0  # Threshold the sigmoid output\n",
    "           if prediction == labels[i]:  # Compare prediction with the actual label\n",
    "                corrects += 1\n",
    "           else:\n",
    "                wrongs += 1\n",
    "        return corrects, wrongs"
   ]
  },
  {
   "cell_type": "code",
   "execution_count": 30,
   "metadata": {},
   "outputs": [],
   "source": [
    "##Defining the Class\n",
    "\n",
    "simple_network = NeuralNetwork(\n",
    "    no_of_in_nodes=X_train_sm.shape[1],\n",
    "    no_of_out_nodes=1,\n",
    "    no_of_hidden_nodes1=32,\n",
    "    no_of_hidden_nodes2=16,\n",
    "    learning_rate=0.01,\n",
    "    optimizer=\"mini_batch_sgd\",  # Choose optimizer\n",
    "    dropout_rate=0.1\n",
    ")\n"
   ]
  },
  {
   "cell_type": "markdown",
   "metadata": {},
   "source": [
    "###  training with batch size 10\n"
   ]
  },
  {
   "cell_type": "code",
   "execution_count": null,
   "metadata": {},
   "outputs": [
    {
     "name": "stdout",
     "output_type": "stream",
     "text": [
      "Epoch 1/10, Average Loss: 0.03898409013089522\n",
      "Epoch 2/10, Average Loss: 0.036898290571002454\n",
      "Epoch 3/10, Average Loss: 0.033789876164466805\n",
      "Epoch 4/10, Average Loss: 0.03249508241716919\n",
      "Epoch 5/10, Average Loss: 0.032589423799440485\n",
      "Epoch 6/10, Average Loss: 0.03195225476637087\n",
      "Epoch 7/10, Average Loss: 0.032102550467582126\n",
      "Epoch 8/10, Average Loss: 0.03194347068061742\n",
      "Epoch 9/10, Average Loss: 0.03218983720947253\n",
      "Epoch 10/10, Average Loss: 0.032399810379974824\n",
      "Accuracy on test set: 0.96%\n"
     ]
    }
   ],
   "source": [
    "# Assuming you have initialized X_train, X_test, y_train, y_test\n",
    "\n",
    "# 1. Initialize your neural network\n",
    "simple_network = NeuralNetwork(\n",
    "    no_of_in_nodes=X_train_sm.shape[1],  # Number of input nodes (features)\n",
    "    no_of_out_nodes=1,  # Number of output nodes (assuming binary classification)\n",
    "    no_of_hidden_nodes1=32,  # Number of nodes in hidden layer 1\n",
    "    no_of_hidden_nodes2=16,  # Number of nodes in hidden layer 2\n",
    "    learning_rate=0.001,  # Learning rate for optimization\n",
    "    optimizer=\"mini_batch_sgd\",  # Choose optimizer (e.g., mini-batch SGD)\n",
    "    l1_lambda=0.001,  # L1 regularization strength\n",
    "    l2_lambda=0.001,  # L2 regularization strength\n",
    "    hidden_activation=\"relu\",  # Activation function for hidden layers\n",
    "    output_activation=\"sigmoid\",  # Output activation function (sigmoid for binary classification)\n",
    "    dropout_rate=0.1  # Dropout rate (if desired)\n",
    ")\n",
    "\n",
    "# 2. Train the neural network on the training data\n",
    "batch_size = 64  # Adjust batch size as needed\n",
    "epochs = 10  # Number of epochs (iterations over the training data)\n",
    "\n",
    "for epoch in range(epochs):\n",
    "    avg_loss = simple_network.train(X_train_sm, y_train_sm, batch_size=batch_size)\n",
    "    print(f\"Epoch {epoch+1}/{epochs}, Average Loss: {avg_loss}\")\n",
    "\n",
    "# 3. Evaluate the neural network on the test data\n",
    "corrects, wrongs = simple_network.evaluate(X_test_scaled, y_test)\n",
    "total = corrects + wrongs\n",
    "accuracy = corrects / total\n",
    "print(f\"Accuracy on test set: {accuracy:.2%}\")\n"
   ]
  },
  {
   "cell_type": "markdown",
   "metadata": {},
   "source": [
    "### Second training"
   ]
  },
  {
   "cell_type": "code",
   "execution_count": null,
   "metadata": {},
   "outputs": [
    {
     "name": "stdout",
     "output_type": "stream",
     "text": [
      "Epoch 1/10, Average Loss: 0.3466554323747502\n",
      "Epoch 2/10, Average Loss: 0.3465735902797862\n",
      "Epoch 3/10, Average Loss: 0.3465735902797843\n",
      "Epoch 4/10, Average Loss: 0.34657359027980084\n",
      "Epoch 5/10, Average Loss: 0.3465735902797916\n",
      "Epoch 6/10, Average Loss: 0.3465735902797844\n",
      "Epoch 7/10, Average Loss: 0.34657359027979806\n",
      "Epoch 8/10, Average Loss: 0.34657359027980167\n",
      "Epoch 9/10, Average Loss: 0.34657359027979434\n",
      "Epoch 10/10, Average Loss: 0.3465735902797998\n",
      "Accuracy on test set: 46.38%\n"
     ]
    }
   ],
   "source": [
    "# 1. Initialize your neural network\n",
    "simple_network = NeuralNetwork(\n",
    "    no_of_in_nodes=X_train_sm.shape[1],  # Number of input nodes (features)\n",
    "    no_of_out_nodes=1,  # Number of output nodes (assuming binary classification)\n",
    "    no_of_hidden_nodes1=32,  # Number of nodes in hidden layer 1\n",
    "    no_of_hidden_nodes2=16,  # Number of nodes in hidden layer 2\n",
    "    learning_rate=0.001,  # Learning rate for optimization\n",
    "    optimizer=\"SGD\",  # Choose optimizer (e.g., mini-batch SGD)\n",
    "    l1_lambda=0.1,  # L1 regularization strength\n",
    "    l2_lambda=0.1,  # L2 regularization strength\n",
    "    hidden_activation=\"relu\",  # Activation function for hidden layers\n",
    "    output_activation=\"sigmoid\",  # Output activation function (sigmoid for binary classification)\n",
    "    dropout_rate=0.5  # Dropout rate (if desired)\n",
    ")\n",
    "\n",
    "# 2. Train the neural network on the training data\n",
    "batch_size = 128 # Adjust batch size as needed\n",
    "epochs = 10  # Number of epochs (iterations over the training data)\n",
    "\n",
    "for epoch in range(epochs):\n",
    "    avg_loss = simple_network.train(X_train_sm, y_train_sm, batch_size=batch_size)\n",
    "    print(f\"Epoch {epoch+1}/{epochs}, Average Loss: {avg_loss}\")\n",
    "\n",
    "# 3. Evaluate the neural network on the test data\n",
    "corrects, wrongs = simple_network.evaluate(X_test_scaled, y_test)\n",
    "total = corrects + wrongs\n",
    "accuracy = corrects / total\n",
    "print(f\"Accuracy on test set: {accuracy:.2%}\")\n",
    "\n",
    "\n",
    "# Plotting\n"
   ]
  },
  {
   "cell_type": "markdown",
   "metadata": {},
   "source": [
    "### Graph Plotting"
   ]
  },
  {
   "cell_type": "code",
   "execution_count": null,
   "metadata": {},
   "outputs": [
    {
     "data": {
      "image/png": "[encoded data removed]",
      "text/plain": [
       "<Figure size 1200x500 with 2 Axes>"
      ]
     },
     "metadata": {},
     "output_type": "display_data"
    }
   ],
   "source": [
    "import matplotlib.pyplot as plt\n",
    "\n",
    "# Example training loop\n",
    "epochs = 10\n",
    "train_losses = []\n",
    "test_accuracies = []\n",
    "\n",
    "for epoch in range(epochs):\n",
    "    # Training step, collect train_losses\n",
    "    train_loss = simple_network.train(X_train_scaled, y_train)\n",
    "    train_losses.append(train_loss)\n",
    "\n",
    "    # Evaluation step, collect test accuracies\n",
    "    corrects, wrongs = simple_network.evaluate(X_test_scaled, y_test)\n",
    "    total = corrects + wrongs\n",
    "    accuracy = corrects / total\n",
    "    test_accuracies.append(accuracy)\n",
    "\n",
    "# Plotting\n",
    "plt.figure(figsize=(12, 5))\n",
    "\n",
    "# Plot training loss on the dataset\n",
    "plt.subplot(1, 2, 1)\n",
    "plt.plot(range(1, epochs + 1), train_losses, label='Training Loss')\n",
    "plt.xlabel('Epoch')\n",
    "plt.ylabel('Loss')\n",
    "plt.title('Training Loss over Epochs')\n",
    "plt.legend()\n",
    "\n",
    "# Plot test accuracy of the model\n",
    "plt.subplot(1, 2, 2)\n",
    "plt.plot(range(1, epochs + 1), test_accuracies, label='Test Accuracy', color='orange')\n",
    "plt.xlabel('Epoch')\n",
    "plt.ylabel('Accuracy')\n",
    "plt.title('Test Accuracy over Epochs')\n",
    "plt.ylim([0.9, 1])\n",
    "plt.legend()\n",
    "\n",
    "plt.tight_layout()\n",
    "plt.show()\n"
   ]
  },
  {
   "cell_type": "code",
   "execution_count": null,
   "metadata": {},
   "outputs": [
    {
     "data": {
      "image/png": "[encoded data removed]",
      "text/plain": [
       "<Figure size 800x600 with 1 Axes>"
      ]
     },
     "metadata": {},
     "output_type": "display_data"
    },
    {
     "name": "stdout",
     "output_type": "stream",
     "text": [
      "              precision    recall  f1-score   support\n",
      "\n",
      "           0       0.99      0.94      0.96     19808\n",
      "           1       0.02      0.11      0.03       192\n",
      "\n",
      "    accuracy                           0.93     20000\n",
      "   macro avg       0.50      0.52      0.50     20000\n",
      "weighted avg       0.98      0.93      0.95     20000\n",
      "\n"
     ]
    }
   ],
   "source": [
    "import seaborn as sns\n",
    "from sklearn.metrics import confusion_matrix, classification_report\n",
    "\n",
    "# prediction storing\n",
    "pred = [1 if simple_network.run(x) >= 0.5 else 0 for x in X_test_scaled]\n",
    "\n",
    "# Compute confusion matrix initiation\n",
    "conf_m = confusion_matrix(y_test, pred)\n",
    "\n",
    "#confusion matrix\n",
    "plt.figure(figsize=(8, 6))\n",
    "sns.heatmap(conf_m, annot=True, cmap='Blues', fmt='g', cbar=False)\n",
    "plt.xlabel('Predicted')\n",
    "plt.ylabel('True')\n",
    "plt.title('Confusion Matrix')\n",
    "plt.show()\n",
    "\n",
    "# Classification report\n",
    "print(classification_report(y_test, pred))\n"
   ]
  },
  {
   "cell_type": "code",
   "execution_count": 50,
   "metadata": {},
   "outputs": [
    {
     "name": "stdout",
     "output_type": "stream",
     "text": [
      "Epoch 1/5, Average Loss: 0.07791802118167812\n",
      "Epoch 2/5, Average Loss: 0.08285551589332621\n",
      "Epoch 3/5, Average Loss: 0.09974438102549495\n",
      "Epoch 4/5, Average Loss: 0.10218993344275136\n",
      "Epoch 5/5, Average Loss: 0.11082567597205141\n",
      "Accuracy on test set: 0.96%\n"
     ]
    }
   ],
   "source": [
    "simple_network = NeuralNetwork(\n",
    "    no_of_in_nodes=X_train_sm.shape[1],\n",
    "    no_of_out_nodes=1,\n",
    "    no_of_hidden_nodes1=128,\n",
    "    no_of_hidden_nodes2=32,\n",
    "    learning_rate=0.001,\n",
    "    optimizer=\"mini_batch_sgd\",\n",
    "    l1_lambda=0.01,\n",
    "    l2_lambda=0.01,\n",
    "    hidden_activation=\"relu\",\n",
    "    output_activation=\"sigmoid\",\n",
    "    dropout_rate=0.5\n",
    ")\n",
    "\n",
    "batch_size = 128\n",
    "epochs = 5\n",
    "\n",
    "for epoch in range(epochs):\n",
    "    avg_loss = simple_network.train(X_train_sm, y_train_sm, batch_size=batch_size)\n",
    "    print(f\"Epoch {epoch+1}/{epochs}, Average Loss: {avg_loss}\")\n",
    "\n",
    "\n",
    "corrects, wrongs = simple_network.evaluate(X_test_scaled, y_test)\n",
    "total = corrects + wrongs\n",
    "accuracy = corrects / total\n",
    "print(f\"Accuracy on test set: {accuracy:.2%}\")\n",
    "\n",
    "\n"
   ]
  },
  {
   "cell_type": "code",
   "execution_count": 51,
   "metadata": {},
   "outputs": [
    {
     "name": "stderr",
     "output_type": "stream",
     "text": [
      "/var/folders/x3/znqp056977l_nmf5cqgjdp9r0000gn/T/ipykernel_47885/636566765.py:54: RuntimeWarning: overflow encountered in exp\n",
      "  return 1 / (1 + np.exp(-x))\n",
      "/var/folders/x3/znqp056977l_nmf5cqgjdp9r0000gn/T/ipykernel_47885/636566765.py:104: RuntimeWarning: invalid value encountered in multiply\n",
      "  return activations * dropout_mask / (1.0 - self.dropout_rate)  # Scale activations\n"
     ]
    },
    {
     "name": "stdout",
     "output_type": "stream",
     "text": [
      "Epoch 1/5, Average Loss: nan\n",
      "Test Accuracy at Epoch 1: 99.04%\n",
      "Epoch 2/5, Average Loss: nan\n",
      "Test Accuracy at Epoch 2: 99.04%\n",
      "Epoch 3/5, Average Loss: nan\n",
      "Test Accuracy at Epoch 3: 99.04%\n",
      "Epoch 4/5, Average Loss: nan\n",
      "Test Accuracy at Epoch 4: 99.04%\n",
      "Epoch 5/5, Average Loss: nan\n",
      "Test Accuracy at Epoch 5: 99.04%\n"
     ]
    },
    {
     "data": {
      "image/png": "[encoded data removed]",
      "text/plain": [
       "<Figure size 640x480 with 1 Axes>"
      ]
     },
     "metadata": {},
     "output_type": "display_data"
    },
    {
     "data": {
      "image/png": "[encoded data removed]",
      "text/plain": [
       "<Figure size 640x480 with 2 Axes>"
      ]
     },
     "metadata": {},
     "output_type": "display_data"
    }
   ],
   "source": [
    "\n",
    "import matplotlib.pyplot as plt\n",
    "from sklearn.metrics import confusion_matrix, ConfusionMatrixDisplay\n",
    "\n",
    "# Training loop with test accuracy tracking\n",
    "accuracies = []\n",
    "\n",
    "for epoch in range(epochs):\n",
    "    avg_loss = simple_network.train(X_train_sm, y_train_sm, batch_size=batch_size)\n",
    "    print(f\"Epoch {epoch+1}/{epochs}, Average Loss: {avg_loss}\")\n",
    "    \n",
    "    corrects, wrongs = simple_network.evaluate(X_test_scaled, y_test)\n",
    "    total = corrects + wrongs\n",
    "    accuracy = corrects / total\n",
    "    accuracies.append(accuracy)\n",
    "    print(f\"Test Accuracy at Epoch {epoch+1}: {accuracy:.2%}\")\n",
    "\n",
    "# Plotting test accuracy over epochs\n",
    "plt.plot(range(1, epochs + 1), accuracies, marker='o')\n",
    "plt.title(\"Test Accuracy Over Epochs\")\n",
    "plt.xlabel(\"Epoch\")\n",
    "plt.ylabel(\"Accuracy\")\n",
    "plt.grid(True)\n",
    "plt.show()\n",
    "\n",
    "# Confusion matrix\n",
    "predictions = [1 if simple_network.run(x) >= 0.5 else 0 for x in X_test_scaled]\n",
    "cm = confusion_matrix(y_test, predictions)\n",
    "\n",
    "# Display confusion matrix\n",
    "disp = ConfusionMatrixDisplay(confusion_matrix=cm, display_labels=[0, 1])\n",
    "disp.plot(cmap='Blues')\n",
    "plt.title(\"Confusion Matrix\")\n",
    "plt.show()\n",
    "\n"
   ]
  }
 ],
 "metadata": {
  "kernelspec": {
   "display_name": "Python 3 (ipykernel)",
   "language": "python",
   "name": "python3"
  },
  "language_info": {
   "codemirror_mode": {
    "name": "ipython",
    "version": 3
   },
   "file_extension": ".py",
   "mimetype": "text/x-python",
   "name": "python",
   "nbconvert_exporter": "python",
   "pygments_lexer": "ipython3",
   "version": "3.12.4"
  }
 },
 "nbformat": 4,
 "nbformat_minor": 4
}
